{
 "cells": [
  {
   "cell_type": "code",
   "execution_count": null,
   "id": "dd1e13c5-3ba5-498a-98e5-74685c9e431f",
   "metadata": {
    "tags": []
   },
   "outputs": [],
   "source": [
    "from inspect import getdoc\n",
    "from IPython.display import HTML, Markdown\n",
    "from odeanimate.array import Array\n",
    "\n",
    "def testing_function(*args, descriptor=None, **kwargs):\n",
    "    \"\"\"## Array Testing Function\n",
    "    \n",
    "    This function will display the properties of an\n",
    "    array based on it's construction parameters.\n",
    "    \n",
    "    Any Argument passed to this function will be passed to\n",
    "    the `Array`'s `__init__` method.\n",
    "    \n",
    "    This function will return the constructed array object.\n",
    "    \"\"\"\n",
    "    A = Array(*args, **kwargs)\n",
    "    display(HTML(\"Arguments:\"))\n",
    "    display(args)\n",
    "    display(HTML(\"Input Shape Extractor Result\"))\n",
    "    display(Array._input_shape_extractor(args))\n",
    "    display(HTML(f\"Shape: {A._shape}<br/>Array: \"))\n",
    "    display(HTML(str(A._array) + \"<br/>\"))\n",
    "    \n",
    "    array_w_axis = A._repr_html_()\n",
    "    A._html_axis = True\n",
    "    array_n_axis = A._repr_html_()\n",
    "    styles = \"display: flex; justify-content: space-around; align-items: last baseline; flex-wrap: wrap\"\n",
    "    display(HTML(\n",
    "        f'<div style=\"{styles}\"><div>'\n",
    "        f\"{array_w_axis}\"\n",
    "        \"</div><div>\"\n",
    "        f\"{array_n_axis}\"\n",
    "        \"</div></div>\"\n",
    "    ))\n",
    "    \n",
    "    if descriptor:\n",
    "        display(HTML(f\"Element at {descriptor}\"))\n",
    "        display(A[*descriptor])\n",
    "        \n",
    "    return A\n",
    "\n",
    "def display_components(array, *components):\n",
    "    for component in components:\n",
    "        value = array[component]\n",
    "        if isinstance(value, Array):\n",
    "            print(\"Component \", component)\n",
    "            display(value)\n",
    "        else:\n",
    "            print(\"Component \", component, \" value \", value)\n",
    "\n",
    "        \n",
    "\n",
    "Markdown(getdoc(testing_function))"
   ]
  },
  {
   "cell_type": "markdown",
   "id": "81fb7bd0-e10f-4de2-9499-5e92f4dd3352",
   "metadata": {},
   "source": [
    "# Examples"
   ]
  },
  {
   "cell_type": "code",
   "execution_count": null,
   "id": "fb7ee9c2-6720-49bc-a7ad-b15ee7002379",
   "metadata": {
    "tags": []
   },
   "outputs": [],
   "source": [
    "A = testing_function(*range(1, 6))\n",
    "display_components(A, 0, 1, 2, 3, slice(None), slice(1,2), slice(None, None, -1))\n",
    "A"
   ]
  },
  {
   "cell_type": "code",
   "execution_count": null,
   "id": "cdfcb1ce-9a10-41d3-90ac-6fada857b190",
   "metadata": {
    "tags": []
   },
   "outputs": [],
   "source": [
    "A = testing_function(*[[i] for i in range(1, 6)])\n",
    "display_components(A,\n",
    "    (0, 0),\n",
    "    (1, 0),\n",
    "    (2, 0),\n",
    "    (slice(1, 3), 0),\n",
    ")"
   ]
  },
  {
   "cell_type": "code",
   "execution_count": null,
   "id": "e9d09a75-e484-4caf-8ae2-f06d4d204f59",
   "metadata": {
    "tags": []
   },
   "outputs": [],
   "source": [
    "A = testing_function([i for i in range(1, 6)])\n",
    "display_components(A, (0, 0), (0, 1), (0, 2), (0, slice(2,4)))"
   ]
  },
  {
   "cell_type": "code",
   "execution_count": null,
   "id": "63a3f8a3-93a4-4450-8ee6-256a9325813d",
   "metadata": {
    "tags": []
   },
   "outputs": [],
   "source": [
    "A = testing_function(range(1, 4), range(4, 7))\n",
    "display_components(A, (1, 0), (1, 1), (1, 2), (slice(None), slice(None, None, -1)))"
   ]
  },
  {
   "cell_type": "code",
   "execution_count": null,
   "id": "f4b6a695-ae83-4aba-bbf9-830768cfbbc2",
   "metadata": {
    "tags": []
   },
   "outputs": [],
   "source": [
    "array_as_list = [\n",
    "    [1, 2], [3, 4]\n",
    "]\n",
    "A = testing_function(*array_as_list)\n",
    "display_components(A, (0, 0), (1, 0), (0, 1), (1, 1))"
   ]
  },
  {
   "cell_type": "code",
   "execution_count": null,
   "id": "4e66a362-4a31-4a4a-8cfb-80e5fff95c09",
   "metadata": {
    "tags": []
   },
   "outputs": [],
   "source": [
    "array_as_list = [\n",
    "    [1, 2, 3], [4, 5, 6]\n",
    "]\n",
    "A = testing_function(array_as_list)\n",
    "display_components(A,\n",
    "    (0, 0, 0), (0, 0, 1), (0, 0, 2),\n",
    "    (0, 1, 0), (0, 1, 1), (0, 1, 2),            \n",
    "    (0, slice(None), slice(None))\n",
    ")"
   ]
  },
  {
   "cell_type": "code",
   "execution_count": null,
   "id": "7d7e381a-2fb5-4160-b96b-f7c08ecbe933",
   "metadata": {
    "tags": []
   },
   "outputs": [],
   "source": [
    "A = testing_function(range(1, 6), range(6, 11))"
   ]
  },
  {
   "cell_type": "code",
   "execution_count": null,
   "id": "4a18431b-5ec3-4736-86a0-117ab1a647aa",
   "metadata": {
    "tags": []
   },
   "outputs": [],
   "source": [
    "A = testing_function(range(1, 6), range(6, 11), range(11, 16))"
   ]
  },
  {
   "cell_type": "code",
   "execution_count": null,
   "id": "e598fb8c-b650-42a5-a655-7d59dc7b6a39",
   "metadata": {
    "tags": []
   },
   "outputs": [],
   "source": [
    "A = testing_function(range(1, 11), range(11, 21), range(21, 31))\n",
    "display_components(A,\n",
    "        (0, 0),\n",
    "        (0, 1),           \n",
    "        (1, 0),\n",
    "        (1, 1),\n",
    "        (slice(1, 3), slice(4, 7)), \n",
    ")"
   ]
  },
  {
   "cell_type": "code",
   "execution_count": null,
   "id": "9ef6c2d1-12f8-4613-89a2-dd6632284fda",
   "metadata": {},
   "outputs": [],
   "source": []
  },
  {
   "cell_type": "code",
   "execution_count": null,
   "id": "9253d1da-161b-4f07-9172-5a318a6783a4",
   "metadata": {},
   "outputs": [],
   "source": []
  },
  {
   "cell_type": "code",
   "execution_count": null,
   "id": "7e5078f6-74e9-40f9-9642-3d446b1e4f09",
   "metadata": {},
   "outputs": [],
   "source": []
  },
  {
   "cell_type": "code",
   "execution_count": null,
   "id": "d513f1e5-5634-408f-a76f-91baeab1d983",
   "metadata": {},
   "outputs": [],
   "source": []
  }
 ],
 "metadata": {
  "kernelspec": {
   "display_name": "Python 3 (ipykernel)",
   "language": "python",
   "name": "python3"
  },
  "language_info": {
   "codemirror_mode": {
    "name": "ipython",
    "version": 3
   },
   "file_extension": ".py",
   "mimetype": "text/x-python",
   "name": "python",
   "nbconvert_exporter": "python",
   "pygments_lexer": "ipython3",
   "version": "3.11.1"
  }
 },
 "nbformat": 4,
 "nbformat_minor": 5
}

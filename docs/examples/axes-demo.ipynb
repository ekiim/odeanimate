{
 "cells": [
  {
   "cell_type": "code",
   "execution_count": null,
   "id": "76f74077-a465-4780-af73-d02ba7a023f2",
   "metadata": {
    "execution": {
     "iopub.execute_input": "2023-04-03T05:03:16.361278Z",
     "iopub.status.busy": "2023-04-03T05:03:16.360499Z",
     "iopub.status.idle": "2023-04-03T05:03:16.673564Z",
     "shell.execute_reply": "2023-04-03T05:03:16.673280Z"
    }
   },
   "outputs": [],
   "source": [
    "%matplotlib notebook\n",
    "from matplotlib.figure import Figure\n",
    "import odeanimate.plots\n",
    "from odeanimate.domains import Interval\n",
    "\n",
    "from odeanimate.plots.axes import cartesian_axes\n",
    "\n",
    "r = 2.5\n",
    "circ_func = lambda x: (r**2 - x**2) ** (1 / 2)\n",
    "x_plot = list(Interval(-r, r))\n",
    "y_plot = [circ_func(x) for x in x_plot]\n",
    "x_points = [0, 1, 1, -1, -1, 2, 2, -2, -2]\n",
    "y_points = [0, 1, -1, 1, -1, 2, -2, 2, -2]\n",
    "\n"
   ]
  },
  {
   "cell_type": "code",
   "execution_count": null,
   "id": "c04dfcab-72a3-4ba9-bc67-00e0fbe13f0f",
   "metadata": {
    "execution": {
     "iopub.execute_input": "2023-04-03T05:03:16.674979Z",
     "iopub.status.busy": "2023-04-03T05:03:16.674870Z",
     "iopub.status.idle": "2023-04-03T05:03:17.449308Z",
     "shell.execute_reply": "2023-04-03T05:03:17.448972Z"
    }
   },
   "outputs": [],
   "source": [
    "fig = Figure(figsize=(16, 16))\n",
    "axes = [fig.add_subplot(4, 4, i, projection=\"odeanimate\") for i in range(1, 17)]\n",
    "fig"
   ]
  },
  {
   "cell_type": "code",
   "execution_count": null,
   "id": "8e1e0605-d1b4-4c95-a707-e4100eb3f207",
   "metadata": {
    "execution": {
     "iopub.execute_input": "2023-04-03T05:03:17.450764Z",
     "iopub.status.busy": "2023-04-03T05:03:17.450641Z",
     "iopub.status.idle": "2023-04-03T05:03:18.146831Z",
     "shell.execute_reply": "2023-04-03T05:03:18.146522Z"
    }
   },
   "outputs": [],
   "source": [
    "full, pos, neg = Interval(-3, 3), Interval(0, 6), Interval(-6, 0)\n",
    "pos_non_zero, neg_non_zero = Interval(1, 7), Interval(-7, -1)\n",
    "\n",
    "axes[0].set_limits(full, full)\n",
    "axes[1].set_limits(full)\n",
    "\n",
    "# axes[2].set_limits(3)\n",
    "\n",
    "# axes[3].set_limits(-3)\n",
    "\n",
    "axes[4].set_limits(pos, pos)\n",
    "axes[5].set_limits(pos, neg)\n",
    "axes[6].set_limits(neg, pos)\n",
    "axes[7].set_limits(neg, neg)\n",
    "\n",
    "axes[8].set_limits(full, pos)\n",
    "axes[9].set_limits(full, neg)\n",
    "axes[10].set_limits(pos, full)\n",
    "axes[11].set_limits(neg, full)\n",
    "\n",
    "axes[12].set_limits(full, pos_non_zero)\n",
    "axes[13].set_limits(full, neg_non_zero)\n",
    "axes[14].set_limits(pos_non_zero, full)\n",
    "axes[15].set_limits(neg_non_zero, full)\n",
    "\n",
    "\n",
    "for ax in axes:\n",
    "    ax.plot(x_plot, y_plot)\n",
    "    ax.plot(x_plot, [-y for y in y_plot])\n",
    "    ax.scatter(x_points, y_points, c=\"g\")\n",
    "fig"
   ]
  },
  {
   "cell_type": "code",
   "execution_count": null,
   "id": "15b9a8b8-01a8-4706-b98e-bbbe24b8fb30",
   "metadata": {},
   "outputs": [],
   "source": []
  },
  {
   "cell_type": "code",
   "execution_count": null,
   "id": "0496de92-89db-46c7-9206-001d252454bc",
   "metadata": {},
   "outputs": [],
   "source": []
  }
 ],
 "metadata": {
  "kernelspec": {
   "display_name": "Python 3 (ipykernel)",
   "language": "python",
   "name": "python3"
  },
  "language_info": {
   "codemirror_mode": {
    "name": "ipython",
    "version": 3
   },
   "file_extension": ".py",
   "mimetype": "text/x-python",
   "name": "python",
   "nbconvert_exporter": "python",
   "pygments_lexer": "ipython3",
   "version": "3.11.1"
  }
 },
 "nbformat": 4,
 "nbformat_minor": 5
}

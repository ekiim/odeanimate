{
 "cells": [
  {
   "cell_type": "code",
   "execution_count": null,
   "id": "ffb45351-efc8-4d8d-a5cd-6d80672079f0",
   "metadata": {},
   "outputs": [],
   "source": [
    "%matplotlib notebook\n",
    "from math import cos, sin, pi\n",
    "import odeanimate.plots.axes\n",
    "from matplotlib.figure import Figure\n",
    "import ipywidgets as widgets\n",
    "from IPython.display import display, Math, Latex\n",
    "from odeanimate.curve import Curve1D, Curve2D\n",
    "from odeanimate.domains import Interval\n",
    "from odeanimate.vector import Vector2D\n",
    "from odeanimate.jupyter import display_return"
   ]
  },
  {
   "cell_type": "code",
   "execution_count": null,
   "id": "ae5bf92f-8151-4318-8939-f531030db688",
   "metadata": {},
   "outputs": [],
   "source": [
    "interval = Interval(-2, 2)\n",
    "\n",
    "\n",
    "@Curve1D\n",
    "def g(x):\n",
    "    \"\"\"$g(x) = -1 - x^2$\"\"\"\n",
    "    return 3 - (1 + x**2)"
   ]
  },
  {
   "cell_type": "code",
   "execution_count": null,
   "id": "1b739f7a-f864-4af8-a3c3-b8196781e80e",
   "metadata": {},
   "outputs": [],
   "source": [
    "def interactive(n, sum_type, function, interval):\n",
    "    fig = Figure(figsize=(8, 4))\n",
    "    ax = fig.add_subplot(projection=\"odeanimate\")\n",
    "    trayectory = function.map(interval)\n",
    "    ax.set_limits(interval, Interval(min(trayectory.y), max(trayectory.y)))\n",
    "    ax.add(trayectory, keys=[\"x\", \"y\"])\n",
    "\n",
    "    a, b = interval.limits\n",
    "    width = (b - a) / n\n",
    "    partition = [a + i * width for i in range(n + 1)]\n",
    "    domain = []\n",
    "    codomain = []\n",
    "    for _p, _n in zip(partition, partition[1:]):\n",
    "        _domain = [_p, _p, _n, _n]\n",
    "        if sum_type == \"mid-point\":\n",
    "            h = function((_p + _n) / 2)\n",
    "        elif sum_type == \"right\":\n",
    "            h = function(_n)\n",
    "        else:  # sum_type == 'left'\n",
    "            h = function(_p)\n",
    "        _codomain = [0, h, h, 0]\n",
    "        domain.extend(_domain)\n",
    "        codomain.extend(_codomain)\n",
    "    ax.plot(domain, codomain)\n",
    "    display(fig)"
   ]
  },
  {
   "cell_type": "code",
   "execution_count": null,
   "id": "9e297cad-d1dd-49bd-a557-1dd4283b7ecb",
   "metadata": {},
   "outputs": [],
   "source": [
    "n = widgets.IntSlider(\n",
    "    description=\"$n$\",\n",
    "    value=1,\n",
    "    min=1,\n",
    "    max=150,\n",
    "    step=1,\n",
    ")\n",
    "_type = widgets.RadioButtons(\n",
    "    options=[\"left\", \"mid-point\", \"right\"],\n",
    "    value=\"left\",\n",
    "    description=\"Which type of Riemann Sum:\",\n",
    ")\n",
    "\n",
    "out = widgets.interactive_output(\n",
    "    display_return(interactive, function=g, interval=interval),\n",
    "    {\"n\": n, \"sum_type\": _type},\n",
    ")\n",
    "\n",
    "widgets.VBox([widgets.HBox([n, _type]), out])"
   ]
  },
  {
   "cell_type": "code",
   "execution_count": null,
   "id": "5bfd4503-03f8-45ba-b879-4f7b84293a34",
   "metadata": {},
   "outputs": [],
   "source": []
  },
  {
   "cell_type": "code",
   "execution_count": null,
   "id": "4b80f691",
   "metadata": {},
   "outputs": [],
   "source": []
  }
 ],
 "metadata": {
  "kernelspec": {
   "display_name": "Python 3 (ipykernel)",
   "language": "python",
   "name": "python3"
  },
  "language_info": {
   "codemirror_mode": {
    "name": "ipython",
    "version": 3
   },
   "file_extension": ".py",
   "mimetype": "text/x-python",
   "name": "python",
   "nbconvert_exporter": "python",
   "pygments_lexer": "ipython3",
   "version": "3.9.14"
  }
 },
 "nbformat": 4,
 "nbformat_minor": 5
}

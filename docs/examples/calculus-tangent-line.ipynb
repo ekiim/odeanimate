{
 "cells": [
  {
   "cell_type": "code",
   "execution_count": null,
   "id": "4c763e2e-9912-46eb-99cc-21bde4c50781",
   "metadata": {},
   "outputs": [],
   "source": [
    "%matplotlib notebook\n",
    "from math import cos, sin, pi\n",
    "import odeanimate.plots.axes\n",
    "from matplotlib.figure import Figure\n",
    "import ipywidgets as widgets\n",
    "from IPython.display import display, Math, Latex\n",
    "from odeanimate.curve import Curve1D, Curve2D\n",
    "from odeanimate.domains import Interval\n",
    "from odeanimate.vector import Vector2D\n",
    "from odeanimate.jupyter import display_return"
   ]
  },
  {
   "cell_type": "code",
   "execution_count": null,
   "id": "4d39b2c8-5eb6-422f-82ba-6a60dbd2029d",
   "metadata": {},
   "outputs": [],
   "source": [
    "interval = Interval(0, 10)\n",
    "\n",
    "\n",
    "@Curve1D\n",
    "def function(x):\n",
    "    \"\"\"$g(x) = (\\\\frac{1}{300})(x-1)(x-3)(x-6)(x-9)$\"\"\"\n",
    "    return (x - 2) * (x - 3) * (x - 6) * (x - 9) / 300"
   ]
  },
  {
   "cell_type": "code",
   "execution_count": null,
   "id": "b3ca7d67-32f8-4206-a12e-7d147919cd30",
   "metadata": {},
   "outputs": [],
   "source": [
    "def figure_generator(function, interval, t_0):\n",
    "    fig = Figure(figsize=(4, 4))\n",
    "    ax = fig.add_subplot(projection=\"odeanimate\")\n",
    "    ax.set_xlim(interval)\n",
    "\n",
    "    trayectory = function.map(interval)\n",
    "    ax.set_ylim(min(trayectory.y), max(trayectory.y))\n",
    "    ax.add(trayectory)\n",
    "\n",
    "    point = Vector2D(t_0, function(t_0))\n",
    "    ax.add(point, point=True)\n",
    "\n",
    "    m = function.derivative()(t_0)\n",
    "    b = function(t_0)\n",
    "\n",
    "    @Curve1D\n",
    "    def tangent(t):\n",
    "        return m * (t - t_0) + b\n",
    "\n",
    "    ax.add(tangent, interval=interval, delta=1)\n",
    "    return fig"
   ]
  },
  {
   "cell_type": "code",
   "execution_count": null,
   "id": "5f28acc4-a3ac-4a45-befd-e2ec5b3b9b78",
   "metadata": {},
   "outputs": [],
   "source": [
    "figure_generator(function, interval, sum(interval.limits) / 2)"
   ]
  },
  {
   "cell_type": "code",
   "execution_count": null,
   "id": "89847348-13b8-4e56-be6c-68370d49d453",
   "metadata": {},
   "outputs": [],
   "source": [
    "_t = widgets.FloatSlider(\n",
    "    description=\"$t_0$\",\n",
    "    value=interval.limits[0],\n",
    "    min=interval.limits[0],\n",
    "    max=interval.limits[1],\n",
    "    step=0.05,\n",
    ")\n",
    "\n",
    "out = widgets.interactive_output(\n",
    "    display_return(figure_generator, function=function, interval=interval), {\"t_0\": _t}\n",
    ")\n",
    "\n",
    "widgets.VBox([_t, out])"
   ]
  },
  {
   "cell_type": "code",
   "execution_count": null,
   "id": "5af651f9",
   "metadata": {},
   "outputs": [],
   "source": []
  }
 ],
 "metadata": {
  "kernelspec": {
   "display_name": "Python 3 (ipykernel)",
   "language": "python",
   "name": "python3"
  },
  "language_info": {
   "codemirror_mode": {
    "name": "ipython",
    "version": 3
   },
   "file_extension": ".py",
   "mimetype": "text/x-python",
   "name": "python",
   "nbconvert_exporter": "python",
   "pygments_lexer": "ipython3",
   "version": "3.7.13"
  }
 },
 "nbformat": 4,
 "nbformat_minor": 5
}

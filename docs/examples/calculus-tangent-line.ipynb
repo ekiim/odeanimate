{
 "cells": [
  {
   "cell_type": "code",
   "execution_count": null,
   "id": "4c763e2e-9912-46eb-99cc-21bde4c50781",
   "metadata": {
    "execution": {
     "iopub.execute_input": "2023-04-03T05:02:25.699431Z",
     "iopub.status.busy": "2023-04-03T05:02:25.699126Z",
     "iopub.status.idle": "2023-04-03T05:02:26.039183Z",
     "shell.execute_reply": "2023-04-03T05:02:26.038883Z"
    }
   },
   "outputs": [],
   "source": [
    "%matplotlib notebook\n",
    "from math import cos, sin, pi\n",
    "import odeanimate.plots.axes\n",
    "from matplotlib.figure import Figure\n",
    "import ipywidgets as widgets\n",
    "from IPython.display import display, Math, Latex\n",
    "from odeanimate.curve import Curve1D, Curve2D\n",
    "from odeanimate.domains import Interval\n",
    "from odeanimate.vector import Vector2D\n",
    "from odeanimate.jupyter import display_return"
   ]
  },
  {
   "cell_type": "code",
   "execution_count": null,
   "id": "4d39b2c8-5eb6-422f-82ba-6a60dbd2029d",
   "metadata": {
    "execution": {
     "iopub.execute_input": "2023-04-03T05:02:26.040656Z",
     "iopub.status.busy": "2023-04-03T05:02:26.040535Z",
     "iopub.status.idle": "2023-04-03T05:02:26.042649Z",
     "shell.execute_reply": "2023-04-03T05:02:26.042421Z"
    }
   },
   "outputs": [],
   "source": [
    "interval = Interval(0, 10)\n",
    "\n",
    "\n",
    "@Curve1D\n",
    "def function(x):\n",
    "    \"\"\"$g(x) = (\\\\frac{1}{300})(x-1)(x-3)(x-6)(x-9)$\"\"\"\n",
    "    return (x - 2) * (x - 3) * (x - 6) * (x - 9) / 300"
   ]
  },
  {
   "cell_type": "code",
   "execution_count": null,
   "id": "b3ca7d67-32f8-4206-a12e-7d147919cd30",
   "metadata": {
    "execution": {
     "iopub.execute_input": "2023-04-03T05:02:26.043733Z",
     "iopub.status.busy": "2023-04-03T05:02:26.043662Z",
     "iopub.status.idle": "2023-04-03T05:02:26.046171Z",
     "shell.execute_reply": "2023-04-03T05:02:26.045951Z"
    }
   },
   "outputs": [],
   "source": [
    "def figure_generator(function, interval, t_0):\n",
    "    fig = Figure(figsize=(4, 4))\n",
    "    ax = fig.add_subplot(projection=\"odeanimate\")\n",
    "    ax.set_xlim(interval)\n",
    "\n",
    "    trayectory = function.map(interval)\n",
    "    ax.set_ylim(min(trayectory.y), max(trayectory.y))\n",
    "    ax.add(trayectory)\n",
    "\n",
    "    point = Vector2D(t_0, function(t_0))\n",
    "    ax.add(point, point=True)\n",
    "\n",
    "    m = function.derivative()(t_0)\n",
    "    b = function(t_0)\n",
    "\n",
    "    @Curve1D\n",
    "    def tangent(t):\n",
    "        return m * (t - t_0) + b\n",
    "\n",
    "    ax.add(tangent, interval=interval, delta=1)\n",
    "    return fig"
   ]
  },
  {
   "cell_type": "code",
   "execution_count": null,
   "id": "5f28acc4-a3ac-4a45-befd-e2ec5b3b9b78",
   "metadata": {
    "execution": {
     "iopub.execute_input": "2023-04-03T05:02:26.047220Z",
     "iopub.status.busy": "2023-04-03T05:02:26.047140Z",
     "iopub.status.idle": "2023-04-03T05:02:26.168661Z",
     "shell.execute_reply": "2023-04-03T05:02:26.168295Z"
    }
   },
   "outputs": [],
   "source": [
    "figure_generator(function, interval, sum(interval.limits) / 2)"
   ]
  },
  {
   "cell_type": "code",
   "execution_count": null,
   "id": "89847348-13b8-4e56-be6c-68370d49d453",
   "metadata": {
    "execution": {
     "iopub.execute_input": "2023-04-03T05:02:26.170125Z",
     "iopub.status.busy": "2023-04-03T05:02:26.170004Z",
     "iopub.status.idle": "2023-04-03T05:02:26.302130Z",
     "shell.execute_reply": "2023-04-03T05:02:26.301474Z"
    }
   },
   "outputs": [],
   "source": [
    "_t = widgets.FloatSlider(\n",
    "    description=\"$t_0$\",\n",
    "    value=interval.limits[0],\n",
    "    min=interval.limits[0],\n",
    "    max=interval.limits[1],\n",
    "    step=0.05,\n",
    ")\n",
    "\n",
    "out = widgets.interactive_output(\n",
    "    display_return(figure_generator, function=function, interval=interval), {\"t_0\": _t}\n",
    ")\n",
    "\n",
    "widgets.VBox([_t, out])"
   ]
  },
  {
   "cell_type": "code",
   "execution_count": null,
   "id": "5af651f9",
   "metadata": {},
   "outputs": [],
   "source": []
  }
 ],
 "metadata": {
  "kernelspec": {
   "display_name": "Python 3 (ipykernel)",
   "language": "python",
   "name": "python3"
  },
  "language_info": {
   "codemirror_mode": {
    "name": "ipython",
    "version": 3
   },
   "file_extension": ".py",
   "mimetype": "text/x-python",
   "name": "python",
   "nbconvert_exporter": "python",
   "pygments_lexer": "ipython3",
   "version": "3.11.1"
  },
  "widgets": {
   "application/vnd.jupyter.widget-state+json": {
    "state": {
     "132e1f6b96a0452dbbd78b958de26160": {
      "model_module": "@jupyter-widgets/base",
      "model_module_version": "2.0.0",
      "model_name": "LayoutModel",
      "state": {
       "_model_module": "@jupyter-widgets/base",
       "_model_module_version": "2.0.0",
       "_model_name": "LayoutModel",
       "_view_count": null,
       "_view_module": "@jupyter-widgets/base",
       "_view_module_version": "2.0.0",
       "_view_name": "LayoutView",
       "align_content": null,
       "align_items": null,
       "align_self": null,
       "border_bottom": null,
       "border_left": null,
       "border_right": null,
       "border_top": null,
       "bottom": null,
       "display": null,
       "flex": null,
       "flex_flow": null,
       "grid_area": null,
       "grid_auto_columns": null,
       "grid_auto_flow": null,
       "grid_auto_rows": null,
       "grid_column": null,
       "grid_gap": null,
       "grid_row": null,
       "grid_template_areas": null,
       "grid_template_columns": null,
       "grid_template_rows": null,
       "height": null,
       "justify_content": null,
       "justify_items": null,
       "left": null,
       "margin": null,
       "max_height": null,
       "max_width": null,
       "min_height": null,
       "min_width": null,
       "object_fit": null,
       "object_position": null,
       "order": null,
       "overflow": null,
       "padding": null,
       "right": null,
       "top": null,
       "visibility": null,
       "width": null
      }
     },
     "40b0b077be9942b0b8e566e296e0487a": {
      "model_module": "@jupyter-widgets/base",
      "model_module_version": "2.0.0",
      "model_name": "LayoutModel",
      "state": {
       "_model_module": "@jupyter-widgets/base",
       "_model_module_version": "2.0.0",
       "_model_name": "LayoutModel",
       "_view_count": null,
       "_view_module": "@jupyter-widgets/base",
       "_view_module_version": "2.0.0",
       "_view_name": "LayoutView",
       "align_content": null,
       "align_items": null,
       "align_self": null,
       "border_bottom": null,
       "border_left": null,
       "border_right": null,
       "border_top": null,
       "bottom": null,
       "display": null,
       "flex": null,
       "flex_flow": null,
       "grid_area": null,
       "grid_auto_columns": null,
       "grid_auto_flow": null,
       "grid_auto_rows": null,
       "grid_column": null,
       "grid_gap": null,
       "grid_row": null,
       "grid_template_areas": null,
       "grid_template_columns": null,
       "grid_template_rows": null,
       "height": null,
       "justify_content": null,
       "justify_items": null,
       "left": null,
       "margin": null,
       "max_height": null,
       "max_width": null,
       "min_height": null,
       "min_width": null,
       "object_fit": null,
       "object_position": null,
       "order": null,
       "overflow": null,
       "padding": null,
       "right": null,
       "top": null,
       "visibility": null,
       "width": null
      }
     },
     "4520f91e29d442ad87ca9e676819fc9c": {
      "model_module": "@jupyter-widgets/base",
      "model_module_version": "2.0.0",
      "model_name": "LayoutModel",
      "state": {
       "_model_module": "@jupyter-widgets/base",
       "_model_module_version": "2.0.0",
       "_model_name": "LayoutModel",
       "_view_count": null,
       "_view_module": "@jupyter-widgets/base",
       "_view_module_version": "2.0.0",
       "_view_name": "LayoutView",
       "align_content": null,
       "align_items": null,
       "align_self": null,
       "border_bottom": null,
       "border_left": null,
       "border_right": null,
       "border_top": null,
       "bottom": null,
       "display": null,
       "flex": null,
       "flex_flow": null,
       "grid_area": null,
       "grid_auto_columns": null,
       "grid_auto_flow": null,
       "grid_auto_rows": null,
       "grid_column": null,
       "grid_gap": null,
       "grid_row": null,
       "grid_template_areas": null,
       "grid_template_columns": null,
       "grid_template_rows": null,
       "height": null,
       "justify_content": null,
       "justify_items": null,
       "left": null,
       "margin": null,
       "max_height": null,
       "max_width": null,
       "min_height": null,
       "min_width": null,
       "object_fit": null,
       "object_position": null,
       "order": null,
       "overflow": null,
       "padding": null,
       "right": null,
       "top": null,
       "visibility": null,
       "width": null
      }
     },
     "64e1f378f9964182803d4886cf6f8b8e": {
      "model_module": "@jupyter-widgets/controls",
      "model_module_version": "2.0.0",
      "model_name": "VBoxModel",
      "state": {
       "_dom_classes": [],
       "_model_module": "@jupyter-widgets/controls",
       "_model_module_version": "2.0.0",
       "_model_name": "VBoxModel",
       "_view_count": null,
       "_view_module": "@jupyter-widgets/controls",
       "_view_module_version": "2.0.0",
       "_view_name": "VBoxView",
       "box_style": "",
       "children": [
        "IPY_MODEL_9ecb4db041d6456188e2ddf265af8958",
        "IPY_MODEL_c48a3baa857744289025521b84cdea49"
       ],
       "layout": "IPY_MODEL_4520f91e29d442ad87ca9e676819fc9c",
       "tabbable": null,
       "tooltip": null
      }
     },
     "9ecb4db041d6456188e2ddf265af8958": {
      "model_module": "@jupyter-widgets/controls",
      "model_module_version": "2.0.0",
      "model_name": "FloatSliderModel",
      "state": {
       "_dom_classes": [],
       "_model_module": "@jupyter-widgets/controls",
       "_model_module_version": "2.0.0",
       "_model_name": "FloatSliderModel",
       "_view_count": null,
       "_view_module": "@jupyter-widgets/controls",
       "_view_module_version": "2.0.0",
       "_view_name": "FloatSliderView",
       "behavior": "drag-tap",
       "continuous_update": true,
       "description": "$t_0$",
       "description_allow_html": false,
       "disabled": false,
       "layout": "IPY_MODEL_132e1f6b96a0452dbbd78b958de26160",
       "max": 10.0,
       "min": 0.0,
       "orientation": "horizontal",
       "readout": true,
       "readout_format": ".2f",
       "step": 0.05,
       "style": "IPY_MODEL_d2f3fdd4862c402286c1b6373d5bdfb8",
       "tabbable": null,
       "tooltip": null,
       "value": 0.0
      }
     },
     "c48a3baa857744289025521b84cdea49": {
      "model_module": "@jupyter-widgets/output",
      "model_module_version": "1.0.0",
      "model_name": "OutputModel",
      "state": {
       "_dom_classes": [],
       "_model_module": "@jupyter-widgets/output",
       "_model_module_version": "1.0.0",
       "_model_name": "OutputModel",
       "_view_count": null,
       "_view_module": "@jupyter-widgets/output",
       "_view_module_version": "1.0.0",
       "_view_name": "OutputView",
       "layout": "IPY_MODEL_40b0b077be9942b0b8e566e296e0487a",
       "msg_id": "",
       "outputs": [
        {
         "data": {
          "image/png": "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",
          "text/plain": "<Figure size 400x400 with 1 Axes>"
         },
         "metadata": {},
         "output_type": "display_data"
        }
       ],
       "tabbable": null,
       "tooltip": null
      }
     },
     "d2f3fdd4862c402286c1b6373d5bdfb8": {
      "model_module": "@jupyter-widgets/controls",
      "model_module_version": "2.0.0",
      "model_name": "SliderStyleModel",
      "state": {
       "_model_module": "@jupyter-widgets/controls",
       "_model_module_version": "2.0.0",
       "_model_name": "SliderStyleModel",
       "_view_count": null,
       "_view_module": "@jupyter-widgets/base",
       "_view_module_version": "2.0.0",
       "_view_name": "StyleView",
       "description_width": "",
       "handle_color": null
      }
     }
    },
    "version_major": 2,
    "version_minor": 0
   }
  }
 },
 "nbformat": 4,
 "nbformat_minor": 5
}

{
 "cells": [
  {
   "cell_type": "code",
   "execution_count": null,
   "id": "dd942dbe-54a8-4890-b05f-5a8893a2e627",
   "metadata": {},
   "outputs": [],
   "source": [
    "%matplotlib notebook\n",
    "import ipywidgets as widgets\n",
    "from matplotlib.figure import Figure\n",
    "\n",
    "import odeanimate.plots\n",
    "from odeanimate.curve import Curve2D\n",
    "from odeanimate.domains import Interval\n",
    "from odeanimate.jupyter import display_return\n",
    "from math import sin, cos, pi\n",
    "from odeanimate.methods.geometry import Circle, StraightLine"
   ]
  },
  {
   "cell_type": "code",
   "execution_count": null,
   "id": "1a4089b0-7796-4a1b-bd6a-27b95fc3d5c0",
   "metadata": {},
   "outputs": [],
   "source": [
    "@Curve2D\n",
    "def ellipse(t):\n",
    "    a, b = 3, 1.5\n",
    "    return a * cos(2 * pi * t), b * sin(2 * pi * t)"
   ]
  },
  {
   "cell_type": "code",
   "execution_count": null,
   "id": "ff5e1e6c-3ed5-4835-9188-fed4062791a1",
   "metadata": {},
   "outputs": [],
   "source": [
    "def interactive_evolute(t):\n",
    "    func = ellipse\n",
    "    evolute = func.evolute()\n",
    "    delta = 0.001\n",
    "    fig = Figure(figsize=(8, 8))\n",
    "    ax = fig.add_subplot(projection=\"odeanimate\")\n",
    "    ax.add(\n",
    "        func,\n",
    "        Circle(center=evolute(t), r=1 / func.curvature()(t)),\n",
    "        StraightLine(func(t), evolute(t)),\n",
    "        func(t),\n",
    "        evolute(t),\n",
    "        interval=Interval(0, 1),\n",
    "        point=True,\n",
    "        delta=delta,\n",
    "    )\n",
    "    ax.add(evolute, interval=Interval(0, t), delta=delta)\n",
    "    ax.set_limits(Interval(-5, 5))\n",
    "    return fig"
   ]
  },
  {
   "cell_type": "code",
   "execution_count": null,
   "id": "c3ff52fd-4b3a-450c-932b-b3592c359975",
   "metadata": {},
   "outputs": [],
   "source": [
    "_t = widgets.FloatSlider(\n",
    "    description=\"$t$\",\n",
    "    value=0,\n",
    "    min=0,\n",
    "    max=1,\n",
    "    step=0.01,\n",
    ")\n",
    "out = widgets.interactive_output(display_return(interactive_evolute), {\"t\": _t})\n",
    "widgets.VBox([_t, out])"
   ]
  },
  {
   "cell_type": "code",
   "execution_count": null,
   "id": "d2bac6e8-4e92-4d46-9c53-8016c961653c",
   "metadata": {},
   "outputs": [],
   "source": []
  },
  {
   "cell_type": "code",
   "execution_count": null,
   "id": "08121ae7-d39e-4eed-8ebe-2b377d1b2571",
   "metadata": {},
   "outputs": [],
   "source": []
  }
 ],
 "metadata": {
  "kernelspec": {
   "display_name": "Python 3 (ipykernel)",
   "language": "python",
   "name": "python3"
  },
  "language_info": {
   "codemirror_mode": {
    "name": "ipython",
    "version": 3
   },
   "file_extension": ".py",
   "mimetype": "text/x-python",
   "name": "python",
   "nbconvert_exporter": "python",
   "pygments_lexer": "ipython3",
   "version": "3.10.6"
  }
 },
 "nbformat": 4,
 "nbformat_minor": 5
}

{
 "cells": [
  {
   "cell_type": "code",
   "execution_count": null,
   "id": "dd942dbe-54a8-4890-b05f-5a8893a2e627",
   "metadata": {
    "tags": []
   },
   "outputs": [],
   "source": [
    "%matplotlib widget\n",
    "from functools import cache\n",
    "import ipywidgets as widgets\n",
    "from matplotlib.figure import Figure\n",
    "import matplotlib.pyplot as plt\n",
    "import odeanimate.plots\n",
    "from odeanimate.curve import Curve2D\n",
    "from odeanimate.domains import Interval\n",
    "from odeanimate.jupyter import display_return\n",
    "from math import sin, cos, pi\n",
    "from odeanimate.methods.geometry import Circle, StraightLine"
   ]
  },
  {
   "cell_type": "code",
   "execution_count": null,
   "id": "1a4089b0-7796-4a1b-bd6a-27b95fc3d5c0",
   "metadata": {
    "tags": []
   },
   "outputs": [],
   "source": [
    "@Curve2D\n",
    "def func(t):\n",
    "    a, b = 3, 1.5\n",
    "    return a * cos(2 * pi * t), b * sin(2 * pi * t)\n",
    "\n",
    "\n",
    "delta = 0.01\n",
    "interval, limits_interval  = Interval(0, 1), Interval(-5, 5)\n",
    "fig = Figure(figsize=(4, 4))\n",
    "ax = fig.add_subplot(projection=\"odeanimate\")\n",
    "ax.add(func, interval=interval, delta=delta)\n",
    "ax.set_limits(limits_interval)\n",
    "fig"
   ]
  },
  {
   "cell_type": "code",
   "execution_count": null,
   "id": "ff5e1e6c-3ed5-4835-9188-fed4062791a1",
   "metadata": {
    "tags": []
   },
   "outputs": [],
   "source": [
    "\n",
    "@cache\n",
    "def interactive_evolute(t):\n",
    "    fig = Figure(figsize=(4, 4))\n",
    "    ax = fig.add_subplot(projection=\"odeanimate\")\n",
    "\n",
    "    evolute = func.evolute()\n",
    "    ax.add(\n",
    "        func,\n",
    "        func(t),\n",
    "        Circle(center=evolute(t), r=1 / func.curvature()(t)),\n",
    "        StraightLine(func(t), evolute(t)),\n",
    "        evolute(t),\n",
    "        interval=interval,\n",
    "        point=True,\n",
    "        delta=delta,\n",
    "    )\n",
    "    ax.add(evolute, interval=Interval(0, t), delta=delta)\n",
    "    ax.set_limits(limits_interval)\n",
    "    return fig\n",
    "\n",
    "interactive_evolute(1)"
   ]
  },
  {
   "cell_type": "code",
   "execution_count": null,
   "id": "c3ff52fd-4b3a-450c-932b-b3592c359975",
   "metadata": {
    "tags": []
   },
   "outputs": [],
   "source": [
    "_t = widgets.FloatSlider(\n",
    "    description=\"$t$\",\n",
    "    value=0,\n",
    "    min=0,\n",
    "    max=1,\n",
    "    step=0.01,\n",
    ")\n",
    "out = widgets.interactive_output(display_return(interactive_evolute), {\"t\": _t})\n",
    "widgets.VBox([_t, out])"
   ]
  },
  {
   "cell_type": "code",
   "execution_count": null,
   "id": "16c6e160-32d1-48d7-9f22-1bc882da2545",
   "metadata": {},
   "outputs": [],
   "source": []
  }
 ],
 "metadata": {
  "kernelspec": {
   "display_name": "Python 3 (ipykernel)",
   "language": "python",
   "name": "python3"
  },
  "language_info": {
   "codemirror_mode": {
    "name": "ipython",
    "version": 3
   },
   "file_extension": ".py",
   "mimetype": "text/x-python",
   "name": "python",
   "nbconvert_exporter": "python",
   "pygments_lexer": "ipython3",
   "version": "3.11.1"
  },
  "widgets": {
   "application/vnd.jupyter.widget-state+json": {
    "state": {
     "31bb5b61acd341aeaef876793ea67488": {
      "model_module": "@jupyter-widgets/base",
      "model_module_version": "2.0.0",
      "model_name": "LayoutModel",
      "state": {
       "_model_module": "@jupyter-widgets/base",
       "_model_module_version": "2.0.0",
       "_model_name": "LayoutModel",
       "_view_count": null,
       "_view_module": "@jupyter-widgets/base",
       "_view_module_version": "2.0.0",
       "_view_name": "LayoutView",
       "align_content": null,
       "align_items": null,
       "align_self": null,
       "border_bottom": null,
       "border_left": null,
       "border_right": null,
       "border_top": null,
       "bottom": null,
       "display": null,
       "flex": null,
       "flex_flow": null,
       "grid_area": null,
       "grid_auto_columns": null,
       "grid_auto_flow": null,
       "grid_auto_rows": null,
       "grid_column": null,
       "grid_gap": null,
       "grid_row": null,
       "grid_template_areas": null,
       "grid_template_columns": null,
       "grid_template_rows": null,
       "height": null,
       "justify_content": null,
       "justify_items": null,
       "left": null,
       "margin": null,
       "max_height": null,
       "max_width": null,
       "min_height": null,
       "min_width": null,
       "object_fit": null,
       "object_position": null,
       "order": null,
       "overflow": null,
       "padding": null,
       "right": null,
       "top": null,
       "visibility": null,
       "width": null
      }
     },
     "464498a7bd374490b7a6521bce7555c9": {
      "model_module": "@jupyter-widgets/controls",
      "model_module_version": "2.0.0",
      "model_name": "VBoxModel",
      "state": {
       "_dom_classes": [],
       "_model_module": "@jupyter-widgets/controls",
       "_model_module_version": "2.0.0",
       "_model_name": "VBoxModel",
       "_view_count": null,
       "_view_module": "@jupyter-widgets/controls",
       "_view_module_version": "2.0.0",
       "_view_name": "VBoxView",
       "box_style": "",
       "children": [
        "IPY_MODEL_ff18533484854c25a1e3eea3050245e7",
        "IPY_MODEL_73787cee088d4fee89a4386a7577ff36"
       ],
       "layout": "IPY_MODEL_31bb5b61acd341aeaef876793ea67488",
       "tabbable": null,
       "tooltip": null
      }
     },
     "57c27aaccfda431c9ab2725f0a4c1e6a": {
      "model_module": "@jupyter-widgets/controls",
      "model_module_version": "2.0.0",
      "model_name": "SliderStyleModel",
      "state": {
       "_model_module": "@jupyter-widgets/controls",
       "_model_module_version": "2.0.0",
       "_model_name": "SliderStyleModel",
       "_view_count": null,
       "_view_module": "@jupyter-widgets/base",
       "_view_module_version": "2.0.0",
       "_view_name": "StyleView",
       "description_width": "",
       "handle_color": null
      }
     },
     "73787cee088d4fee89a4386a7577ff36": {
      "model_module": "@jupyter-widgets/output",
      "model_module_version": "1.0.0",
      "model_name": "OutputModel",
      "state": {
       "_dom_classes": [],
       "_model_module": "@jupyter-widgets/output",
       "_model_module_version": "1.0.0",
       "_model_name": "OutputModel",
       "_view_count": null,
       "_view_module": "@jupyter-widgets/output",
       "_view_module_version": "1.0.0",
       "_view_name": "OutputView",
       "layout": "IPY_MODEL_f617d26250fe44c691675e325dbbe8bc",
       "msg_id": "",
       "outputs": [
        {
         "ename": "NameError",
         "evalue": "name '_new_fuc' is not defined",
         "output_type": "error",
         "traceback": [
          "\u001b[0;31m---------------------------------------------------------------------------\u001b[0m",
          "\u001b[0;31mNameError\u001b[0m                                 Traceback (most recent call last)",
          "File \u001b[0;32m~/.local/share/virtualenvs/odeanimate-i1myuPGR/lib/python3.11/site-packages/ipywidgets/widgets/interaction.py:66\u001b[0m, in \u001b[0;36minteractive_output.<locals>.observer\u001b[0;34m(change)\u001b[0m\n\u001b[1;32m     64\u001b[0m \u001b[38;5;28;01mwith\u001b[39;00m out:\n\u001b[1;32m     65\u001b[0m     clear_output(wait\u001b[38;5;241m=\u001b[39m\u001b[38;5;28;01mTrue\u001b[39;00m)\n\u001b[0;32m---> 66\u001b[0m     \u001b[43mf\u001b[49m\u001b[43m(\u001b[49m\u001b[38;5;241;43m*\u001b[39;49m\u001b[38;5;241;43m*\u001b[39;49m\u001b[43mkwargs\u001b[49m\u001b[43m)\u001b[49m\n\u001b[1;32m     67\u001b[0m     show_inline_matplotlib_plots()\n",
          "File \u001b[0;32m~/Documents/ekiim/odeanimate/odeanimate/jupyter.py:6\u001b[0m, in \u001b[0;36mdisplay_return.<locals>._display_return\u001b[0;34m(*args, **kwargs)\u001b[0m\n\u001b[1;32m      5\u001b[0m \u001b[38;5;28;01mdef\u001b[39;00m \u001b[38;5;21m_display_return\u001b[39m(\u001b[38;5;241m*\u001b[39margs, \u001b[38;5;241m*\u001b[39m\u001b[38;5;241m*\u001b[39mkwargs):\n\u001b[0;32m----> 6\u001b[0m     display(\u001b[43mwrapped_function\u001b[49m\u001b[43m(\u001b[49m\u001b[38;5;241;43m*\u001b[39;49m\u001b[43margs\u001b[49m\u001b[43m,\u001b[49m\u001b[43m \u001b[49m\u001b[38;5;241;43m*\u001b[39;49m\u001b[38;5;241;43m*\u001b[39;49m\u001b[43minitial_kwargs\u001b[49m\u001b[43m,\u001b[49m\u001b[43m \u001b[49m\u001b[38;5;241;43m*\u001b[39;49m\u001b[38;5;241;43m*\u001b[39;49m\u001b[43mkwargs\u001b[49m\u001b[43m)\u001b[49m)\n",
          "Cell \u001b[0;32mIn[3], line 3\u001b[0m, in \u001b[0;36minteractive_evolute\u001b[0;34m(t)\u001b[0m\n\u001b[1;32m      1\u001b[0m \u001b[38;5;28;01mdef\u001b[39;00m \u001b[38;5;21minteractive_evolute\u001b[39m(t):\n\u001b[1;32m      2\u001b[0m     func \u001b[38;5;241m=\u001b[39m ellipse\n\u001b[0;32m----> 3\u001b[0m     evolute \u001b[38;5;241m=\u001b[39m \u001b[43mfunc\u001b[49m\u001b[38;5;241;43m.\u001b[39;49m\u001b[43mevolute\u001b[49m\u001b[43m(\u001b[49m\u001b[43m)\u001b[49m\n\u001b[1;32m      4\u001b[0m     delta \u001b[38;5;241m=\u001b[39m \u001b[38;5;241m0.001\u001b[39m\n\u001b[1;32m      5\u001b[0m     fig \u001b[38;5;241m=\u001b[39m Figure(figsize\u001b[38;5;241m=\u001b[39m(\u001b[38;5;241m8\u001b[39m, \u001b[38;5;241m8\u001b[39m))\n",
          "File \u001b[0;32m~/Documents/ekiim/odeanimate/odeanimate/curve.py:193\u001b[0m, in \u001b[0;36mCurve.evolute\u001b[0;34m(self)\u001b[0m\n\u001b[1;32m    192\u001b[0m \u001b[38;5;28;01mdef\u001b[39;00m \u001b[38;5;21mevolute\u001b[39m(\u001b[38;5;28mself\u001b[39m):\n\u001b[0;32m--> 193\u001b[0m     \u001b[38;5;28;01mreturn\u001b[39;00m \u001b[38;5;28mself\u001b[39m \u001b[38;5;241m+\u001b[39m \u001b[38;5;28mself\u001b[39m\u001b[38;5;241m.\u001b[39mnormal() \u001b[38;5;241m/\u001b[39m \u001b[38;5;28;43mself\u001b[39;49m\u001b[38;5;241;43m.\u001b[39;49m\u001b[43mcurvature\u001b[49m\u001b[43m(\u001b[49m\u001b[43m)\u001b[49m\n",
          "File \u001b[0;32m~/Documents/ekiim/odeanimate/odeanimate/curve.py:337\u001b[0m, in \u001b[0;36mCurve2D.curvature\u001b[0;34m(self)\u001b[0m\n\u001b[1;32m    335\u001b[0m d \u001b[38;5;241m=\u001b[39m \u001b[38;5;28mself\u001b[39m\u001b[38;5;241m.\u001b[39mderivative()\n\u001b[1;32m    336\u001b[0m dd \u001b[38;5;241m=\u001b[39m d\u001b[38;5;241m.\u001b[39mderivative()\n\u001b[0;32m--> 337\u001b[0m \u001b[38;5;28;01mreturn\u001b[39;00m \u001b[38;5;28mabs\u001b[39m(d \u001b[38;5;241m*\u001b[39m dd\u001b[38;5;241m.\u001b[39mJ) \u001b[38;5;241m/\u001b[39m \u001b[38;5;28;43mabs\u001b[39;49m\u001b[43m(\u001b[49m\u001b[43md\u001b[49m\u001b[43m)\u001b[49m\u001b[43m \u001b[49m\u001b[38;5;241;43m*\u001b[39;49m\u001b[38;5;241;43m*\u001b[39;49m\u001b[43m \u001b[49m\u001b[38;5;241;43m3\u001b[39;49m\n",
          "File \u001b[0;32m~/Documents/ekiim/odeanimate/odeanimate/curve.py:292\u001b[0m, in \u001b[0;36mCurve1D.__pow__\u001b[0;34m(self, other)\u001b[0m\n\u001b[1;32m    289\u001b[0m     \u001b[38;5;28;01mdef\u001b[39;00m \u001b[38;5;21m_new_func\u001b[39m(\u001b[38;5;241m*\u001b[39margs, \u001b[38;5;241m*\u001b[39m\u001b[38;5;241m*\u001b[39mkwargs):\n\u001b[1;32m    290\u001b[0m         \u001b[38;5;28;01mreturn\u001b[39;00m \u001b[38;5;28mself\u001b[39m(\u001b[38;5;241m*\u001b[39margs, \u001b[38;5;241m*\u001b[39m\u001b[38;5;241m*\u001b[39mkwargs) \u001b[38;5;241m*\u001b[39m\u001b[38;5;241m*\u001b[39m other\n\u001b[0;32m--> 292\u001b[0m \u001b[38;5;28;01mreturn\u001b[39;00m \u001b[38;5;28mcls\u001b[39m(function\u001b[38;5;241m=\u001b[39m\u001b[43m_new_fuc\u001b[49m)\n",
          "\u001b[0;31mNameError\u001b[0m: name '_new_fuc' is not defined"
         ]
        }
       ],
       "tabbable": null,
       "tooltip": null
      }
     },
     "d7139018f36f4b7eabb1455923eb4d01": {
      "model_module": "@jupyter-widgets/base",
      "model_module_version": "2.0.0",
      "model_name": "LayoutModel",
      "state": {
       "_model_module": "@jupyter-widgets/base",
       "_model_module_version": "2.0.0",
       "_model_name": "LayoutModel",
       "_view_count": null,
       "_view_module": "@jupyter-widgets/base",
       "_view_module_version": "2.0.0",
       "_view_name": "LayoutView",
       "align_content": null,
       "align_items": null,
       "align_self": null,
       "border_bottom": null,
       "border_left": null,
       "border_right": null,
       "border_top": null,
       "bottom": null,
       "display": null,
       "flex": null,
       "flex_flow": null,
       "grid_area": null,
       "grid_auto_columns": null,
       "grid_auto_flow": null,
       "grid_auto_rows": null,
       "grid_column": null,
       "grid_gap": null,
       "grid_row": null,
       "grid_template_areas": null,
       "grid_template_columns": null,
       "grid_template_rows": null,
       "height": null,
       "justify_content": null,
       "justify_items": null,
       "left": null,
       "margin": null,
       "max_height": null,
       "max_width": null,
       "min_height": null,
       "min_width": null,
       "object_fit": null,
       "object_position": null,
       "order": null,
       "overflow": null,
       "padding": null,
       "right": null,
       "top": null,
       "visibility": null,
       "width": null
      }
     },
     "f617d26250fe44c691675e325dbbe8bc": {
      "model_module": "@jupyter-widgets/base",
      "model_module_version": "2.0.0",
      "model_name": "LayoutModel",
      "state": {
       "_model_module": "@jupyter-widgets/base",
       "_model_module_version": "2.0.0",
       "_model_name": "LayoutModel",
       "_view_count": null,
       "_view_module": "@jupyter-widgets/base",
       "_view_module_version": "2.0.0",
       "_view_name": "LayoutView",
       "align_content": null,
       "align_items": null,
       "align_self": null,
       "border_bottom": null,
       "border_left": null,
       "border_right": null,
       "border_top": null,
       "bottom": null,
       "display": null,
       "flex": null,
       "flex_flow": null,
       "grid_area": null,
       "grid_auto_columns": null,
       "grid_auto_flow": null,
       "grid_auto_rows": null,
       "grid_column": null,
       "grid_gap": null,
       "grid_row": null,
       "grid_template_areas": null,
       "grid_template_columns": null,
       "grid_template_rows": null,
       "height": null,
       "justify_content": null,
       "justify_items": null,
       "left": null,
       "margin": null,
       "max_height": null,
       "max_width": null,
       "min_height": null,
       "min_width": null,
       "object_fit": null,
       "object_position": null,
       "order": null,
       "overflow": null,
       "padding": null,
       "right": null,
       "top": null,
       "visibility": null,
       "width": null
      }
     },
     "ff18533484854c25a1e3eea3050245e7": {
      "model_module": "@jupyter-widgets/controls",
      "model_module_version": "2.0.0",
      "model_name": "FloatSliderModel",
      "state": {
       "_dom_classes": [],
       "_model_module": "@jupyter-widgets/controls",
       "_model_module_version": "2.0.0",
       "_model_name": "FloatSliderModel",
       "_view_count": null,
       "_view_module": "@jupyter-widgets/controls",
       "_view_module_version": "2.0.0",
       "_view_name": "FloatSliderView",
       "behavior": "drag-tap",
       "continuous_update": true,
       "description": "$t$",
       "description_allow_html": false,
       "disabled": false,
       "layout": "IPY_MODEL_d7139018f36f4b7eabb1455923eb4d01",
       "max": 1,
       "min": 0,
       "orientation": "horizontal",
       "readout": true,
       "readout_format": ".2f",
       "step": 0.01,
       "style": "IPY_MODEL_57c27aaccfda431c9ab2725f0a4c1e6a",
       "tabbable": null,
       "tooltip": null,
       "value": 0
      }
     }
    },
    "version_major": 2,
    "version_minor": 0
   }
  }
 },
 "nbformat": 4,
 "nbformat_minor": 5
}

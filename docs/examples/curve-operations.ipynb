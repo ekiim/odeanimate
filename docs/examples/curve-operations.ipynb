{
 "cells": [
  {
   "cell_type": "code",
   "execution_count": null,
   "id": "79fc99b6-1ab2-463e-a215-3980edb8a3dd",
   "metadata": {
    "tags": []
   },
   "outputs": [],
   "source": [
    "%matplotlib notebook\n",
    "from matplotlib.figure import Figure\n",
    "from math import cos, e, exp, pi, sin\n",
    "from odeanimate.curve import Curve1D, Curve2D\n",
    "from odeanimate.domains import Interval\n",
    "import odeanimate.plots"
   ]
  },
  {
   "cell_type": "markdown",
   "id": "5313a640-1c44-4134-9a70-3d826adeafe5",
   "metadata": {},
   "source": [
    "One of the useful things that you can find in this module, is that we can work with _curve operations_, which basically means that we can _sum_ or _multiply_ them."
   ]
  },
  {
   "cell_type": "code",
   "execution_count": null,
   "id": "7ac00cbd-9405-4070-a81d-0c1431e06ee1",
   "metadata": {
    "tags": []
   },
   "outputs": [],
   "source": [
    "b, w = 0.5, 1\n",
    "\n",
    "\n",
    "@Curve1D\n",
    "def f(x):\n",
    "    return e ** (-b * x)\n",
    "\n",
    "\n",
    "@Curve1D\n",
    "def g(x):\n",
    "    return cos(w * x)"
   ]
  },
  {
   "cell_type": "code",
   "execution_count": null,
   "id": "403cbdc8-e913-45cb-ac15-6e9249d73da8",
   "metadata": {
    "tags": []
   },
   "outputs": [],
   "source": [
    "interval = Interval(-10, 10)\n",
    "fig = Figure(figsize=(12, 4))\n",
    "ax_f = fig.add_subplot(1, 2, 1, projection=\"odeanimate\")\n",
    "ax_f.set_limits(interval)\n",
    "ax_f.add(f, interval=interval, delta=0.1)\n",
    "\n",
    "ax_g = fig.add_subplot(1, 2, 2, projection=\"odeanimate\")\n",
    "ax_g.set_limits(interval)\n",
    "ax_g.add(g, interval=interval, delta=0.1)\n",
    "\n",
    "fig"
   ]
  },
  {
   "cell_type": "markdown",
   "id": "fca96226-25a0-4cb2-a6e4-02fe79cb6060",
   "metadata": {},
   "source": [
    "We can perform function _sum_, and the returned value (from the sum of curves) is a curve."
   ]
  },
  {
   "cell_type": "code",
   "execution_count": null,
   "id": "0e636cea-679a-4234-9ee4-2ec30170fd7b",
   "metadata": {
    "tags": []
   },
   "outputs": [],
   "source": [
    "f_plus_g = f + g\n",
    "\n",
    "fig = Figure(figsize=(8, 4))\n",
    "ax = fig.add_subplot(projection=\"odeanimate\")\n",
    "ax.set_limits(interval)\n",
    "ax.add(f_plus_g, interval=interval, delta=0.1)\n",
    "fig"
   ]
  },
  {
   "cell_type": "markdown",
   "id": "02b0faba-a256-4a27-967f-01132bff74bd",
   "metadata": {},
   "source": [
    "We can perform function _sum_ with numbers, and the returned value is a curve."
   ]
  },
  {
   "cell_type": "code",
   "execution_count": null,
   "id": "9d88e1e3-117e-4d94-ad86-bb37f11c710f",
   "metadata": {
    "tags": []
   },
   "outputs": [],
   "source": [
    "g_plus_2 = g + 2\n",
    "fig = Figure(figsize=(8, 4))\n",
    "ax = fig.add_subplot(projection=\"odeanimate\")\n",
    "ax.set_limits(interval)\n",
    "ax.add(g_plus_2, interval=interval, delta=0.1)\n",
    "fig"
   ]
  },
  {
   "cell_type": "markdown",
   "id": "c74f9917-297b-4341-8651-2a9828c05e61",
   "metadata": {},
   "source": [
    "We can perform function _multiplications_, and the returned value is a curve."
   ]
  },
  {
   "cell_type": "code",
   "execution_count": null,
   "id": "f1fa96de-b973-4a43-b678-4ac0bb5e73db",
   "metadata": {
    "tags": []
   },
   "outputs": [],
   "source": [
    "f_times_g = f * g\n",
    "\n",
    "fig = Figure(figsize=(8, 4))\n",
    "ax = fig.add_subplot(projection=\"odeanimate\")\n",
    "ax.set_limits(interval)\n",
    "ax.add(f_times_g, interval=interval, delta=0.1)\n",
    "fig"
   ]
  },
  {
   "cell_type": "markdown",
   "id": "59160731-9d8b-4eed-8287-68d1073dd82b",
   "metadata": {},
   "source": [
    "We can perform function _multiplications_ by numbers, and the returned value is a curve."
   ]
  },
  {
   "cell_type": "code",
   "execution_count": null,
   "id": "93bf8b31-0e49-4db0-ae60-cf03844b4a6c",
   "metadata": {
    "tags": []
   },
   "outputs": [],
   "source": [
    "g_times_2 = g * 2\n",
    "\n",
    "fig = Figure(figsize=(8, 4))\n",
    "ax = fig.add_subplot(projection=\"odeanimate\")\n",
    "ax.set_limits(interval)\n",
    "ax.add(g_times_2, interval=interval, delta=0.1)\n",
    "fig"
   ]
  },
  {
   "cell_type": "code",
   "execution_count": null,
   "id": "12844d9c-33c3-4eab-a1ef-3a20e9cba223",
   "metadata": {
    "tags": []
   },
   "outputs": [],
   "source": [
    "@Curve1D\n",
    "def piecewise(x):\n",
    "    if x in Interval(-1, 1):\n",
    "        return x**2\n",
    "    return abs(x)\n",
    "\n",
    "\n",
    "interval = Interval(-2, 2)\n",
    "fig = Figure(figsize=(4, 4))\n",
    "ax = fig.add_subplot(projection=\"odeanimate\")\n",
    "ax.set_limits(interval, Interval(0, 4))\n",
    "ax.add(piecewise, interval=interval, delta=0.01)\n",
    "fig"
   ]
  },
  {
   "cell_type": "code",
   "execution_count": null,
   "id": "663626d9-49be-480a-b049-73ae63fe806f",
   "metadata": {
    "tags": []
   },
   "outputs": [],
   "source": [
    "@Curve1D\n",
    "def pawn(x):\n",
    "    if x in Interval(1, 1.5):\n",
    "        return 1\n",
    "    elif x in Interval(1.5, 2):\n",
    "        return 1 / 2\n",
    "    elif x in Interval(2, 3):\n",
    "        a, b, c, d = 2, 1 / 2, 3, 1 / 3\n",
    "        return d + ((b - d) / (a - c)) * (x - c)\n",
    "    elif x in Interval(3, 4):\n",
    "        r, h, k = 1 / 2, 3, 1 / 3\n",
    "        return (r**2 - (x - h - r) ** 2) ** (1 / 2) + k\n",
    "    return 0\n",
    "\n",
    "\n",
    "interval = Interval(0, 5)\n",
    "fig = Figure(figsize=(8, 4))\n",
    "ax = fig.add_subplot(projection=\"odeanimate\")\n",
    "ax.set_limits(interval, Interval(0, 2))\n",
    "ax.add(pawn, interval=interval, delta=0.01)\n",
    "fig"
   ]
  },
  {
   "cell_type": "code",
   "execution_count": null,
   "id": "2d6b1895-b6f6-41a7-927b-78a61862582c",
   "metadata": {
    "tags": []
   },
   "outputs": [],
   "source": [
    "@Curve1D\n",
    "def bishop(x):\n",
    "    if x in Interval(1, 1.5):\n",
    "        return 1\n",
    "    elif x in Interval(1.5, 2):\n",
    "        a, b, c, d = 1.5, 1 / 2, 2, 0.4\n",
    "        return d + ((b - d) / (a - c)) * (x - c)\n",
    "    elif x in Interval(2, 4):\n",
    "        a, b, h, k = 1, 0.5, 3, 0.4\n",
    "        return (1 / a) * ((a * b) ** 2 - (b * (x - h)) ** 2) + k\n",
    "    elif x in Interval(4, 5):\n",
    "        a, b, h, k = 0.5, 0.75, 4.5, 0.4\n",
    "        return (1 / a) * ((a * b) ** 2 - (b * (x - h)) ** 2) + k\n",
    "    return 0\n",
    "\n",
    "\n",
    "interval = Interval(0, 6)\n",
    "fig = Figure(figsize=(8, 4))\n",
    "ax = fig.add_subplot(projection=\"odeanimate\")\n",
    "ax.set_limits(interval, Interval(0, 2))\n",
    "ax.add(bishop, interval=interval, delta=0.01)\n",
    "fig"
   ]
  },
  {
   "cell_type": "code",
   "execution_count": null,
   "id": "e8e51b49-28c5-40f0-8a5e-bbd868df533b",
   "metadata": {
    "tags": []
   },
   "outputs": [],
   "source": [
    "@Curve1D\n",
    "def x_inverse(x):\n",
    "    return 1 / x\n",
    "\n",
    "\n",
    "@Curve1D\n",
    "def natural_logarithm(x):\n",
    "    # Please don't use this a real calculation.\n",
    "    return x_inverse.integrate(1, x, 0.005)\n",
    "\n",
    "\n",
    "interval = Interval(0.001, 5)\n",
    "fig = Figure(figsize=(8, 4))\n",
    "ax = fig.add_subplot(projection=\"odeanimate\")\n",
    "ax.set_limits(Interval(0, 5), Interval(-4, 2))\n",
    "ax.add(natural_logarithm, interval=interval, delta=0.01)\n",
    "fig"
   ]
  },
  {
   "cell_type": "code",
   "execution_count": null,
   "id": "17bdd1d8-f092-4743-a9d2-060b77858de0",
   "metadata": {
    "tags": []
   },
   "outputs": [],
   "source": [
    "@Curve2D\n",
    "def function(t):\n",
    "    return cos(2 * pi * t), sin(2 * pi * t)"
   ]
  },
  {
   "cell_type": "code",
   "execution_count": null,
   "id": "faae4acf-1bfa-4f06-8ae0-346f36283eeb",
   "metadata": {
    "tags": []
   },
   "outputs": [],
   "source": [
    "interval = Interval(-2, 2)\n",
    "fig = Figure(figsize=(4, 4))\n",
    "ax = fig.add_subplot(projection=\"odeanimate\")\n",
    "ax.set_limits(interval)\n",
    "ax.add(function, interval=Interval(0, 1), delta=0.01)\n",
    "fig"
   ]
  },
  {
   "cell_type": "code",
   "execution_count": null,
   "id": "be48447e-d9c9-47e5-96bc-ba677fb4eb7f",
   "metadata": {
    "tags": []
   },
   "outputs": [],
   "source": [
    "fig = Figure(figsize=(4, 4))\n",
    "ax = fig.add_subplot(projection=\"odeanimate\")\n",
    "ax.set_limits(Interval(-2, 2))\n",
    "ax.add(function * g / 2, interval=Interval(0, 1), delta=0.01)\n",
    "fig"
   ]
  },
  {
   "cell_type": "markdown",
   "id": "5b932803-27e0-41c0-a295-679b16eccdf7",
   "metadata": {},
   "source": []
  },
  {
   "cell_type": "code",
   "execution_count": null,
   "id": "458d1979-35cb-4541-9ec4-d19affaa6aaf",
   "metadata": {
    "tags": []
   },
   "outputs": [],
   "source": [
    "interval = Interval(-10, 10)\n",
    "fig = Figure(figsize=(8, 4))\n",
    "ax = fig.add_subplot(projection=\"odeanimate\")\n",
    "ax.set_limits(interval)\n",
    "ax.add(abs(function) * abs(g) / 2, interval=interval, delta=0.01)\n",
    "fig"
   ]
  },
  {
   "cell_type": "code",
   "execution_count": null,
   "id": "6cd07636-7ed1-451b-8bdb-92df00438f4b",
   "metadata": {},
   "outputs": [],
   "source": []
  },
  {
   "cell_type": "code",
   "execution_count": null,
   "id": "247310af-8058-4ac1-8f0f-d53129a78e73",
   "metadata": {},
   "outputs": [],
   "source": []
  }
 ],
 "metadata": {
  "kernelspec": {
   "display_name": "Python 3 (ipykernel)",
   "language": "python",
   "name": "python3"
  },
  "language_info": {
   "codemirror_mode": {
    "name": "ipython",
    "version": 3
   },
   "file_extension": ".py",
   "mimetype": "text/x-python",
   "name": "python",
   "nbconvert_exporter": "python",
   "pygments_lexer": "ipython3",
   "version": "3.11.1"
  }
 },
 "nbformat": 4,
 "nbformat_minor": 5
}

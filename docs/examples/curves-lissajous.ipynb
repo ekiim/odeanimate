{
 "cells": [
  {
   "cell_type": "markdown",
   "id": "cad2638c-52f2-421d-bf50-fdcae2d0eedf",
   "metadata": {},
   "source": [
    "# Lissajous Figures\n",
    "\n",
    "When you study the superposition of two simple harmonic motion in perpendicular directions, you will start noticing\n",
    "some _patterns_ that are appealing to the eye, does patterns are known as the Lissajous Figures.\n",
    "\n",
    "In essence, this is having a particle moving in a two dimensional plane, subject to a conservative system of two springs, (one per direction).\n",
    "The springs, are not necesarily with the same constant asociated to them.\n",
    "\n",
    "> **Further reading:**\n",
    ">\n",
    "> Chapter 12 Section 9, from\n",
    "> _Fundamental university physics Volume 1: Mechanics_,\n",
    "> by Marcelo Alonso and Edward J. Finn\n",
    "\n",
    "The equations that model the trajectory of this given particle are the following, were $a$ and $b$ are the frequencies of their corresponding springs.\n",
    "\n",
    "$$\n",
    "x(t) = \\sin ( a t + \\delta ), \\quad\n",
    "y(t) = \\sin(b t)\n",
    "$$\n",
    "\n",
    "Now let's model this to plot it."
   ]
  },
  {
   "cell_type": "markdown",
   "id": "eedb13f6-6cbc-48ad-a659-f6f640e6094d",
   "metadata": {},
   "source": [
    "First we need to `import` all that we need from the _standard_ (including `matplotlib` as standard), modules, and we make sure that the `Figure` objects auto display when returned in a cell."
   ]
  },
  {
   "cell_type": "code",
   "execution_count": null,
   "id": "45144b9d-658a-4c94-80af-40f422ba84ae",
   "metadata": {},
   "outputs": [],
   "source": [
    "%matplotlib notebook\n",
    "from math import cos, sin, pi\n",
    "from matplotlib.figure import Figure"
   ]
  },
  {
   "cell_type": "markdown",
   "id": "7c0c977c-c781-4599-b168-810633696f27",
   "metadata": {},
   "source": [
    " Now we import the module specific functions/objects we need."
   ]
  },
  {
   "cell_type": "code",
   "execution_count": null,
   "id": "3a01be9b-70ab-451b-abb2-a7bb562fa01c",
   "metadata": {},
   "outputs": [],
   "source": [
    "import odeanimate.plots.axes\n",
    "from odeanimate.curve import Curve2D\n",
    "from odeanimate.domains import Interval"
   ]
  },
  {
   "cell_type": "markdown",
   "id": "4c69ccd9-00d5-429c-b5e4-f18c88e8437a",
   "metadata": {},
   "source": [
    "Now we define a _smart_ function, that will return us Lissajouse figure plot.\n",
    "\n",
    "> If you look at the code, this function defines a function inside of it, and that is correct the core idea behind of it in programmin is called a closure.\n",
    "\n",
    "The function can be conceptually divided in 3 parts:\n",
    "\n",
    " 1. Define the Lissajouse parametric curve, \n",
    " 2. Creating and configuring the `Figure` and `Axes`,\n",
    " 3. Plotting the parametric curve."
   ]
  },
  {
   "cell_type": "code",
   "execution_count": null,
   "id": "dcec5de7-cc1a-4107-9906-6aa4f7ca308e",
   "metadata": {},
   "outputs": [],
   "source": [
    "interval = Interval(0, 2 * pi)\n",
    "\n",
    "\n",
    "def lissajous_generator(a, b, delta, A=1, B=1):\n",
    "    @Curve2D\n",
    "    def LissajousCurve(t):\n",
    "        return A * sin(a * t + delta), B * sin(b * t)\n",
    "\n",
    "    fig = Figure(figsize=(4, 4))\n",
    "    ax = fig.add_subplot(projection=\"odeanimate\")\n",
    "    C = max(A, B)\n",
    "    plot_interval = Interval(-1.2 * C, 1.2 * C)\n",
    "    ax.set_limits(plot_interval, plot_interval)\n",
    "\n",
    "    ax.add(LissajousCurve, interval=interval, delta=1e-2)\n",
    "\n",
    "    return fig"
   ]
  },
  {
   "cell_type": "markdown",
   "id": "54245af2-4183-4596-bbc8-8f51f9352287",
   "metadata": {},
   "source": [
    "Now we can try and execute the function we previously defined."
   ]
  },
  {
   "cell_type": "code",
   "execution_count": null,
   "id": "33c23bac-1171-46e8-94ab-73dd87114f69",
   "metadata": {},
   "outputs": [],
   "source": [
    "lissajous_generator(2, 3, pi, 1, 1)"
   ]
  },
  {
   "cell_type": "markdown",
   "id": "bbba7172-b134-426a-b375-46350c269084",
   "metadata": {},
   "source": [
    "Now that we saw that it works, we can try and turn this in to an interactive widget with the jupyter widget suit.\n",
    "\n",
    "First we import the widgets module, and our own helper function, that will turn our generator function in to a widget."
   ]
  },
  {
   "cell_type": "code",
   "execution_count": null,
   "id": "06cf0cc8-7c32-4716-8ae9-f897ecd1e7b5",
   "metadata": {},
   "outputs": [],
   "source": [
    "import ipywidgets as widgets\n",
    "from odeanimate.jupyter import display_return"
   ]
  },
  {
   "cell_type": "markdown",
   "id": "3f7a5331-a1ee-424d-b22f-9880b236ac1d",
   "metadata": {},
   "source": [
    "We define the controller widgets as _sliders_, one per parameter."
   ]
  },
  {
   "cell_type": "code",
   "execution_count": null,
   "id": "6fcf8459-5618-452b-abc0-3de73fa6f0e7",
   "metadata": {},
   "outputs": [],
   "source": [
    "TAU = 6.35\n",
    "widget_kwargs = dict(\n",
    "    value=1,\n",
    "    min=-TAU,\n",
    "    max=TAU,\n",
    "    step=0.005,\n",
    ")\n",
    "_a = widgets.FloatSlider(\n",
    "    description=\"$a$\",\n",
    "    **widget_kwargs,\n",
    ")\n",
    "_b = widgets.FloatSlider(\n",
    "    description=\"$b$\",\n",
    "    **widget_kwargs,\n",
    ")\n",
    "_delta = widgets.FloatSlider(\n",
    "    description=\"$\\delta$\",\n",
    "    **{**widget_kwargs, \"value\": 0},\n",
    ")\n",
    "_A = widgets.FloatSlider(\n",
    "    description=\"$A$\",\n",
    "    **{**widget_kwargs, \"min\": 0},\n",
    ")\n",
    "_B = widgets.FloatSlider(\n",
    "    description=\"$B$\",\n",
    "    **{**widget_kwargs, \"min\": 0},\n",
    ")\n",
    "None"
   ]
  },
  {
   "cell_type": "markdown",
   "id": "e9186bf7-a08d-4c4e-8ddf-b7ac85ee1319",
   "metadata": {},
   "source": [
    "Then we create an _dynamic output_ that will depend on the widgets value.\n",
    "\n",
    "The first argument for `interactive_output` is a function that will be executed when the values of the second argument _dictionary_ change.\n",
    "The second argument it's a dictionary that will say how you map the widgets to the keyword arguments of the function that exists in the first argument.\n",
    "\n",
    "Now we are using a hepler function named `display_return` that will turn any function in to a displayable widget by calling the jupyter method for displaying an object."
   ]
  },
  {
   "cell_type": "code",
   "execution_count": null,
   "id": "9f6b8921-7e56-4b63-9a96-97f38cf49cb4",
   "metadata": {},
   "outputs": [],
   "source": [
    "out = widgets.interactive_output(\n",
    "    display_return(lissajous_generator),\n",
    "    {\"a\": _a, \"b\": _b, \"delta\": _delta, \"A\": _A, \"B\": _B},\n",
    ")\n",
    "None"
   ]
  },
  {
   "cell_type": "code",
   "execution_count": null,
   "id": "b46c65c0-2da2-4566-b11d-77002dbc06fb",
   "metadata": {},
   "outputs": [],
   "source": [
    "widgets.HBox([widgets.VBox([_a, _b, _delta, _A, _B]), out])"
   ]
  },
  {
   "cell_type": "code",
   "execution_count": null,
   "id": "a4098177",
   "metadata": {},
   "outputs": [],
   "source": []
  }
 ],
 "metadata": {
  "kernelspec": {
   "display_name": "Python 3 (ipykernel)",
   "language": "python",
   "name": "python3"
  },
  "language_info": {
   "codemirror_mode": {
    "name": "ipython",
    "version": 3
   },
   "file_extension": ".py",
   "mimetype": "text/x-python",
   "name": "python",
   "nbconvert_exporter": "python",
   "pygments_lexer": "ipython3",
   "version": "3.7.13"
  }
 },
 "nbformat": 4,
 "nbformat_minor": 5
}

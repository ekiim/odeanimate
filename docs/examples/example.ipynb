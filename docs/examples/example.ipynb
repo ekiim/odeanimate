{
 "cells": [
  {
   "cell_type": "code",
   "execution_count": null,
   "id": "aa8428f2-4a4c-4b54-8ecd-bba1e6929642",
   "metadata": {
    "execution": {
     "iopub.execute_input": "2023-04-03T05:02:48.587631Z",
     "iopub.status.busy": "2023-04-03T05:02:48.587274Z",
     "iopub.status.idle": "2023-04-03T05:02:48.892469Z",
     "shell.execute_reply": "2023-04-03T05:02:48.892199Z"
    }
   },
   "outputs": [],
   "source": [
    "%matplotlib notebook\n",
    "import odeanimate.plots.axes\n",
    "from matplotlib.figure import Figure\n",
    "from odeanimate.curve import Curve1D, Curve2D\n",
    "from odeanimate.domains import Interval"
   ]
  },
  {
   "cell_type": "code",
   "execution_count": null,
   "id": "f4939e7f-2578-4cc9-b36c-10189e1f9c99",
   "metadata": {
    "execution": {
     "iopub.execute_input": "2023-04-03T05:02:48.893847Z",
     "iopub.status.busy": "2023-04-03T05:02:48.893740Z",
     "iopub.status.idle": "2023-04-03T05:02:49.010621Z",
     "shell.execute_reply": "2023-04-03T05:02:49.010279Z"
    }
   },
   "outputs": [],
   "source": [
    "fig = Figure(figsize=(4, 4))\n",
    "ax = fig.add_subplot(projection=\"odeanimate\")\n",
    "fig"
   ]
  },
  {
   "cell_type": "code",
   "execution_count": null,
   "id": "d24d6272-b8eb-4de1-9102-0a8ca73069ef",
   "metadata": {
    "execution": {
     "iopub.execute_input": "2023-04-03T05:02:49.012007Z",
     "iopub.status.busy": "2023-04-03T05:02:49.011894Z",
     "iopub.status.idle": "2023-04-03T05:02:49.013845Z",
     "shell.execute_reply": "2023-04-03T05:02:49.013610Z"
    }
   },
   "outputs": [],
   "source": [
    "@Curve1D\n",
    "def function(x):\n",
    "    return x**2 - 1 / 4\n",
    "\n",
    "\n",
    "interval = Interval(-2, 2)"
   ]
  },
  {
   "cell_type": "code",
   "execution_count": null,
   "id": "ff283001-110a-449c-8db3-628bd43e720e",
   "metadata": {
    "execution": {
     "iopub.execute_input": "2023-04-03T05:02:49.014941Z",
     "iopub.status.busy": "2023-04-03T05:02:49.014864Z",
     "iopub.status.idle": "2023-04-03T05:02:49.170051Z",
     "shell.execute_reply": "2023-04-03T05:02:49.169228Z"
    }
   },
   "outputs": [],
   "source": [
    "fig = Figure(figsize=(4, 4))\n",
    "ax = fig.add_subplot(projection=\"odeanimate\")\n",
    "ax.add(function, interval=interval, delta=0.05)\n",
    "fig"
   ]
  },
  {
   "cell_type": "code",
   "execution_count": null,
   "id": "f62bf070-4c59-43a9-b591-03b18a7f68d4",
   "metadata": {},
   "outputs": [],
   "source": []
  }
 ],
 "metadata": {
  "kernelspec": {
   "display_name": "Python 3 (ipykernel)",
   "language": "python",
   "name": "python3"
  },
  "language_info": {
   "codemirror_mode": {
    "name": "ipython",
    "version": 3
   },
   "file_extension": ".py",
   "mimetype": "text/x-python",
   "name": "python",
   "nbconvert_exporter": "python",
   "pygments_lexer": "ipython3",
   "version": "3.11.1"
  }
 },
 "nbformat": 4,
 "nbformat_minor": 5
}

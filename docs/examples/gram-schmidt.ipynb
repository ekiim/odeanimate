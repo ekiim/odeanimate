{
 "cells": [
  {
   "cell_type": "code",
   "execution_count": null,
   "id": "d503018f-36f5-45cc-8741-8d4563c7b841",
   "metadata": {
    "tags": []
   },
   "outputs": [],
   "source": [
    "%matplotlib notebook\n",
    "from functools import reduce\n",
    "from matplotlib.figure import Figure\n",
    "import odeanimate.plots\n",
    "from odeanimate.vector import Vector3D\n",
    "from odeanimate.domains import Interval\n",
    "\n",
    "\n",
    "def GramSchmidtOrthoNormalize(*non):\n",
    "    orth = []\n",
    "    for (i, cur) in enumerate(non, start=0):\n",
    "        x = cur - sum(\n",
    "            [((cur * other) / abs(other) ** 2) * other for other in orth[:i]],\n",
    "            Vector3D(0, 0, 0),  # start at\n",
    "        )\n",
    "        orth.append(x / abs(x))\n",
    "    return orth\n",
    "\n",
    "\n",
    "non_ortho_base = [Vector3D(1, -1, 1), Vector3D(1, 0, 1), Vector3D(1, 1, 2)]\n",
    "ortho_base = GramSchmidtOrthoNormalize(*non_ortho_base)\n",
    "fig = Figure(figsize=(8, 8))\n",
    "gs = fig.add_gridspec(1, 1)\n",
    "ax = fig.add_subplot(gs[0, 0], projection=\"odeanimate3D\")\n",
    "ax.set_limits(Interval(-3, 3))\n",
    "ax.add(non_ortho_base)\n",
    "ax.add(ortho_base)\n",
    "ax.view_init(10, -160)\n",
    "fig"
   ]
  },
  {
   "cell_type": "code",
   "execution_count": null,
   "id": "d98305cd-e874-4b9c-900b-ca9a7a605884",
   "metadata": {},
   "outputs": [],
   "source": []
  }
 ],
 "metadata": {
  "kernelspec": {
   "display_name": "Python 3 (ipykernel)",
   "language": "python",
   "name": "python3"
  },
  "language_info": {
   "codemirror_mode": {
    "name": "ipython",
    "version": 3
   },
   "file_extension": ".py",
   "mimetype": "text/x-python",
   "name": "python",
   "nbconvert_exporter": "python",
   "pygments_lexer": "ipython3",
   "version": "3.11.1"
  }
 },
 "nbformat": 4,
 "nbformat_minor": 5
}

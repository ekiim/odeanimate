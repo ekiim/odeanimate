{
 "cells": [
  {
   "cell_type": "code",
   "execution_count": null,
   "id": "d6ad3672-4ca8-4585-b120-d863821c59e0",
   "metadata": {},
   "outputs": [],
   "source": [
    "from math import e\n",
    "from matplotlib.figure import Figure\n",
    "from matplotlib import rc\n",
    "\n",
    "from odeanimate.domains import Interval\n",
    "from odeanimate.curve import Curve1D\n",
    "from odeanimate.methods.ode import integrate, runge_kutta_4"
   ]
  },
  {
   "cell_type": "code",
   "execution_count": null,
   "id": "66512f86-f114-41a6-832e-b51f2a8df58b",
   "metadata": {},
   "outputs": [],
   "source": [
    "@Curve1D\n",
    "def frac(x, y):\n",
    "    r\"\"\"\\frac{x}{y}\"\"\"\n",
    "    try:\n",
    "        return (x / y,)\n",
    "    except ZeroDivisionError:\n",
    "        return (1e5,)"
   ]
  },
  {
   "cell_type": "code",
   "execution_count": null,
   "id": "16318169-3612-4cea-add0-e9bffb8382ec",
   "metadata": {},
   "outputs": [],
   "source": []
  },
  {
   "cell_type": "code",
   "execution_count": null,
   "id": "db179b7c-7179-435f-b013-2fcc99ccdf43",
   "metadata": {},
   "outputs": [],
   "source": []
  }
 ],
 "metadata": {
  "kernelspec": {
   "display_name": "Python 3 (ipykernel)",
   "language": "python",
   "name": "python3"
  },
  "language_info": {
   "codemirror_mode": {
    "name": "ipython",
    "version": 3
   },
   "file_extension": ".py",
   "mimetype": "text/x-python",
   "name": "python",
   "nbconvert_exporter": "python",
   "pygments_lexer": "ipython3",
   "version": "3.9.13"
  }
 },
 "nbformat": 4,
 "nbformat_minor": 5
}

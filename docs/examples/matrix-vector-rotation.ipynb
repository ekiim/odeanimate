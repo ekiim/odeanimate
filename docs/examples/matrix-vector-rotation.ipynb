{
 "cells": [
  {
   "cell_type": "code",
   "execution_count": null,
   "id": "0d70217f-5456-4f83-b035-cf91d92c0eaa",
   "metadata": {
    "tags": []
   },
   "outputs": [],
   "source": [
    "%matplotlib notebook\n",
    "from math import pi\n",
    "from matplotlib.figure import Figure\n",
    "from odeanimate.utils import output_file\n",
    "from odeanimate.domains import Interval\n",
    "from odeanimate.vector import Vector2D\n",
    "from odeanimate.matrix import Matrix\n",
    "from odeanimate.plots.axes import cartesian_axes\n",
    "from odeanimate.plots.vectors import vector_2d_tails, vector_2d_single"
   ]
  },
  {
   "cell_type": "code",
   "execution_count": null,
   "id": "bbfb99c0-667f-4280-b41e-c87c9973640a",
   "metadata": {
    "tags": []
   },
   "outputs": [],
   "source": [
    "fig = Figure(figsize=(8, 8))\n",
    "interval = Interval(-5, 5)\n",
    "a = Vector2D(2, 2)\n",
    "b = Vector2D(2, -2)\n",
    "rows, cols = 3, 3\n",
    "functions = [\n",
    "    Matrix([1, 0], [0, 1]),\n",
    "    Matrix([2, 0], [0, 2]),\n",
    "    Matrix([0.5, 0], [0, 0.5]),\n",
    "    Matrix.Rotation2D(pi / 2),\n",
    "    Matrix.Rotation2D(pi),\n",
    "    Matrix.Rotation2D(3 * pi / 2),\n",
    "    Matrix([0, -1], [-1, 1]),\n",
    "    0.5 * Matrix([1, 1], [1, 2]),\n",
    "    Matrix([0.5, 0], [0, 0.5]),\n",
    "]\n",
    "axes = [\n",
    "    cartesian_axes(fig.add_subplot(rows, cols, i + 1), interval)\n",
    "    for i in range(rows * cols)\n",
    "]\n",
    "for func, ax in zip(functions, axes):\n",
    "    _a = func(a)\n",
    "    vector_2d_single(ax, _a)\n",
    "    vector_2d_single(ax, func(b), _a)\n",
    "    pass"
   ]
  },
  {
   "cell_type": "code",
   "execution_count": null,
   "id": "22bd3a9b-c85b-4c24-834c-f6f7292edcfd",
   "metadata": {
    "tags": []
   },
   "outputs": [],
   "source": [
    "fig"
   ]
  },
  {
   "cell_type": "code",
   "execution_count": null,
   "id": "8010fe44-e250-413e-87d8-aa2de1bb8e9f",
   "metadata": {},
   "outputs": [],
   "source": []
  },
  {
   "cell_type": "code",
   "execution_count": null,
   "id": "706e8402-e1c2-428a-9941-9e5058bd21aa",
   "metadata": {},
   "outputs": [],
   "source": []
  },
  {
   "cell_type": "code",
   "execution_count": null,
   "id": "d10dfab4-3d5a-4209-afa5-998c0264a3df",
   "metadata": {},
   "outputs": [],
   "source": []
  }
 ],
 "metadata": {
  "kernelspec": {
   "display_name": "Python 3 (ipykernel)",
   "language": "python",
   "name": "python3"
  },
  "language_info": {
   "codemirror_mode": {
    "name": "ipython",
    "version": 3
   },
   "file_extension": ".py",
   "mimetype": "text/x-python",
   "name": "python",
   "nbconvert_exporter": "python",
   "pygments_lexer": "ipython3",
   "version": "3.11.1"
  }
 },
 "nbformat": 4,
 "nbformat_minor": 5
}

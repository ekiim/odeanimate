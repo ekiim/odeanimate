{
 "cells": [
  {
   "cell_type": "code",
   "execution_count": null,
   "id": "ab63b9ea-dafa-474a-ab24-45f06a351b40",
   "metadata": {
    "execution": {
     "iopub.execute_input": "2023-04-03T05:02:53.919643Z",
     "iopub.status.busy": "2023-04-03T05:02:53.919342Z",
     "iopub.status.idle": "2023-04-03T05:02:54.227998Z",
     "shell.execute_reply": "2023-04-03T05:02:54.227689Z"
    }
   },
   "outputs": [],
   "source": [
    "%matplotlib notebook\n",
    "from math import sin, cos, pi\n",
    "from matplotlib.figure import Figure\n",
    "import odeanimate.plots as op\n",
    "from odeanimate.domains import Interval\n",
    "from odeanimate.curve import Curve3D"
   ]
  },
  {
   "cell_type": "code",
   "execution_count": null,
   "id": "d12a1093-e92a-4285-b209-a60d6b22f73b",
   "metadata": {
    "execution": {
     "iopub.execute_input": "2023-04-03T05:02:54.229501Z",
     "iopub.status.busy": "2023-04-03T05:02:54.229386Z",
     "iopub.status.idle": "2023-04-03T05:02:54.231707Z",
     "shell.execute_reply": "2023-04-03T05:02:54.231471Z"
    }
   },
   "outputs": [],
   "source": [
    "@Curve3D\n",
    "def helicoid(t):\n",
    "    return 3 * cos(2 * pi * t), 2 * sin(2 * pi * t), 3 * t / 4\n",
    "\n",
    "\n",
    "@Curve3D\n",
    "def spheric_curve(t):\n",
    "    return (\n",
    "        3 * cos(2 * pi * t) * cos(2 * pi * t),\n",
    "        2 * sin(2 * pi * t) * cos(2 * pi * t),\n",
    "        5 * sin(2 * pi * t),\n",
    "    )"
   ]
  },
  {
   "cell_type": "code",
   "execution_count": null,
   "id": "e045bf7c-3695-4df6-86d3-62b87b7cc618",
   "metadata": {
    "execution": {
     "iopub.execute_input": "2023-04-03T05:02:54.232995Z",
     "iopub.status.busy": "2023-04-03T05:02:54.232908Z",
     "iopub.status.idle": "2023-04-03T05:02:54.250097Z",
     "shell.execute_reply": "2023-04-03T05:02:54.249837Z"
    }
   },
   "outputs": [],
   "source": [
    "fig = Figure(figsize=(4, 4))\n",
    "ax = op.ODEAnimateAxes3D(fig)\n",
    "ax.set_limits(Interval(-5, 5))\n",
    "ax.add(spheric_curve, interval=Interval(-2, 2), delta=1 / 100, color=(0.25, 1.00, 0.25))\n",
    "fig"
   ]
  }
 ],
 "metadata": {
  "kernelspec": {
   "display_name": "Python 3 (ipykernel)",
   "language": "python",
   "name": "python3"
  },
  "language_info": {
   "codemirror_mode": {
    "name": "ipython",
    "version": 3
   },
   "file_extension": ".py",
   "mimetype": "text/x-python",
   "name": "python",
   "nbconvert_exporter": "python",
   "pygments_lexer": "ipython3",
   "version": "3.11.1"
  }
 },
 "nbformat": 4,
 "nbformat_minor": 5
}

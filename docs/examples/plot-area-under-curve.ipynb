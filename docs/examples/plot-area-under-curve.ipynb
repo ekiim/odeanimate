{
 "cells": [
  {
   "cell_type": "code",
   "execution_count": null,
   "id": "fe108a0a-4ead-4f36-ae60-84cfd778dad0",
   "metadata": {},
   "outputs": [],
   "source": [
    "%matplotlib notebook\n",
    "from math import sin\n",
    "from matplotlib.figure import Figure\n",
    "import odeanimate.plots\n",
    "from odeanimate.domains import Interval\n",
    "from odeanimate.curve import Curve1D\n",
    "\n",
    "\n",
    "@Curve1D\n",
    "def polynomial(x):\n",
    "    # return(x - 5)*(x - 3)*(x+1) / 4\n",
    "    return ((2 + x) ** 0.5) * sin(x / 2) - 1.5\n",
    "\n",
    "\n",
    "f = polynomial"
   ]
  },
  {
   "cell_type": "code",
   "execution_count": null,
   "id": "c1273998-0b12-4cb2-89f1-b13de8926c58",
   "metadata": {},
   "outputs": [],
   "source": [
    "fig = Figure(figsize=(8, 4))\n",
    "ax = fig.add_subplot(projection=\"odeanimate\")\n",
    "\n",
    "x_lim, y_lim = Interval(-5, 5), Interval(-2.5, 2.5)\n",
    "# ax.set_limits(x_lim, y_lim)\n",
    "ax.set_xlim(*x_lim.limits)\n",
    "ax.set_ylim(*y_lim.limits)\n",
    "\n",
    "\n",
    "interval = Interval(-1, 5)\n",
    "\n",
    "trayectory = f.map(interval, 0.1)\n",
    "\n",
    "X, Y = trayectory.x, trayectory.y"
   ]
  },
  {
   "cell_type": "code",
   "execution_count": null,
   "id": "6478c20c-caee-4e1a-a77b-508b73a6585b",
   "metadata": {},
   "outputs": [],
   "source": [
    "ax.fill_between(X, Y, where=list(map(lambda x: x in interval and f(x) > 0, X)))\n",
    "ax.fill_between(X, Y, where=list(map(lambda x: x in interval and f(x) < 0, X)))\n",
    "fig"
   ]
  },
  {
   "cell_type": "code",
   "execution_count": null,
   "id": "4eccf70b-e75f-4c23-84f9-52d6d4da5e44",
   "metadata": {},
   "outputs": [],
   "source": []
  }
 ],
 "metadata": {
  "kernelspec": {
   "display_name": "Python 3 (ipykernel)",
   "language": "python",
   "name": "python3"
  },
  "language_info": {
   "codemirror_mode": {
    "name": "ipython",
    "version": 3
   },
   "file_extension": ".py",
   "mimetype": "text/x-python",
   "name": "python",
   "nbconvert_exporter": "python",
   "pygments_lexer": "ipython3",
   "version": "3.7.13"
  }
 },
 "nbformat": 4,
 "nbformat_minor": 5
}

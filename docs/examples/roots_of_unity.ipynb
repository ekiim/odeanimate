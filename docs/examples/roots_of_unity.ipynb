{
 "cells": [
  {
   "cell_type": "code",
   "execution_count": null,
   "id": "17d08eb7-8455-46ad-b883-41b92578773b",
   "metadata": {},
   "outputs": [],
   "source": [
    "%matplotlib notebook\n",
    "from matplotlib.figure import Figure\n",
    "import odeanimate.plots\n",
    "from math import e\n",
    "from random import randint\n",
    "from odeanimate.domains import Interval\n",
    "from odeanimate.utils import nth_roots_of_unity\n",
    "from odeanimate.vector import Vector2D"
   ]
  },
  {
   "cell_type": "code",
   "execution_count": null,
   "id": "8d96fc28-6a5f-4fab-ab1b-518ce11e67fe",
   "metadata": {},
   "outputs": [],
   "source": [
    "n = randint(2, 30)\n",
    "roots = [Vector2D.from_complex(z) for z in nth_roots_of_unity(n)]"
   ]
  },
  {
   "cell_type": "code",
   "execution_count": null,
   "id": "05fface7-87f3-419f-ba3d-e3e5d08d00ca",
   "metadata": {},
   "outputs": [],
   "source": [
    "fig = Figure(figsize=(4, 4))\n",
    "ax = fig.add_subplot(projection=\"odeanimate\")\n",
    "ax.set_limits(Interval(-1.2, 1.2))\n",
    "ax.add(roots, point=True, color=\"red\")\n",
    "fig"
   ]
  },
  {
   "cell_type": "code",
   "execution_count": null,
   "id": "710b9853-a24e-4523-90f3-f1a3a0b14676",
   "metadata": {},
   "outputs": [],
   "source": []
  },
  {
   "cell_type": "code",
   "execution_count": null,
   "id": "72875d03-5142-4f1d-a250-099a91c2ce21",
   "metadata": {},
   "outputs": [],
   "source": []
  }
 ],
 "metadata": {
  "kernelspec": {
   "display_name": "Python 3 (ipykernel)",
   "language": "python",
   "name": "python3"
  },
  "language_info": {
   "codemirror_mode": {
    "name": "ipython",
    "version": 3
   },
   "file_extension": ".py",
   "mimetype": "text/x-python",
   "name": "python",
   "nbconvert_exporter": "python",
   "pygments_lexer": "ipython3",
   "version": "3.7.13"
  }
 },
 "nbformat": 4,
 "nbformat_minor": 5
}

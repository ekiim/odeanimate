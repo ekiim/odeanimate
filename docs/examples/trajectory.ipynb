{
 "cells": [
  {
   "cell_type": "code",
   "execution_count": null,
   "id": "897cc5d4-2b11-4a6e-b5f9-81d0ebffb4c9",
   "metadata": {
    "tags": []
   },
   "outputs": [],
   "source": [
    "from odeanimate.domains import Interval\n",
    "from odeanimate.curve import Curve1D\n",
    "\n",
    "@Curve1D\n",
    "def function(x):\n",
    "    return x**2 - 1 / 4\n",
    "\n",
    "interval = Interval(-4, 4)\n",
    "trajectory = function.map(interval, 1)\n",
    "trajectory._keys"
   ]
  },
  {
   "cell_type": "code",
   "execution_count": null,
   "id": "a0012315-3ee1-430f-a6c2-ac124da0ffed",
   "metadata": {
    "tags": []
   },
   "outputs": [],
   "source": [
    "trajectory"
   ]
  },
  {
   "cell_type": "code",
   "execution_count": null,
   "id": "f061c26d-b3b1-436f-ae10-5ccf3fa2bc5a",
   "metadata": {
    "tags": []
   },
   "outputs": [],
   "source": [
    "trajectory[:, 0] == trajectory.x"
   ]
  },
  {
   "cell_type": "code",
   "execution_count": null,
   "id": "3470b804-5162-4a70-9d51-e3852160bc96",
   "metadata": {
    "tags": []
   },
   "outputs": [],
   "source": [
    "trajectory.x"
   ]
  },
  {
   "cell_type": "code",
   "execution_count": null,
   "id": "201c9f81-5788-482c-abd4-adea093cb1fe",
   "metadata": {
    "tags": []
   },
   "outputs": [],
   "source": [
    "from odeanimate.curve import Curve1D, Curve2D\n",
    "\n",
    "@Curve2D\n",
    "def curve(t):\n",
    "    return t**2 - 4, t**3 - 27\n",
    "\n",
    "trajectory = curve.map(interval, 1)\n",
    "trajectory"
   ]
  },
  {
   "cell_type": "code",
   "execution_count": null,
   "id": "f80021b3-6847-458f-a3ea-2f9e6b04fbf2",
   "metadata": {
    "tags": []
   },
   "outputs": [],
   "source": [
    "trajectory"
   ]
  },
  {
   "cell_type": "code",
   "execution_count": null,
   "id": "b41da6b5-47d3-4dc8-ab8e-0e0ef3d6db85",
   "metadata": {
    "tags": []
   },
   "outputs": [],
   "source": []
  },
  {
   "cell_type": "code",
   "execution_count": null,
   "id": "6ef15159-7421-47a3-84d1-1d023dbcf857",
   "metadata": {},
   "outputs": [],
   "source": []
  }
 ],
 "metadata": {
  "kernelspec": {
   "display_name": "Python 3 (ipykernel)",
   "language": "python",
   "name": "python3"
  },
  "language_info": {
   "codemirror_mode": {
    "name": "ipython",
    "version": 3
   },
   "file_extension": ".py",
   "mimetype": "text/x-python",
   "name": "python",
   "nbconvert_exporter": "python",
   "pygments_lexer": "ipython3",
   "version": "3.11.1"
  }
 },
 "nbformat": 4,
 "nbformat_minor": 5
}

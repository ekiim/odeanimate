{
 "cells": [
  {
   "cell_type": "code",
   "execution_count": null,
   "id": "95a65b77-1c78-490a-9ddb-9af7bacdb2a0",
   "metadata": {},
   "outputs": [],
   "source": [
    "%matplotlib notebook\n",
    "from matplotlib.figure import Figure\n",
    "from odeanimate.domains import Interval\n",
    "from odeanimate.vector import Vector2D\n",
    "from odeanimate.plots.vectors import vector_2d_tails, vector_2d_single\n",
    "from odeanimate.plots.axes import cartesian_axes"
   ]
  },
  {
   "cell_type": "code",
   "execution_count": null,
   "id": "dee94bf8-2810-43d4-a950-d439d55168fd",
   "metadata": {},
   "outputs": [],
   "source": [
    "vectors = [\n",
    "    Vector2D(1, 1),\n",
    "    Vector2D(1, -1),\n",
    "    Vector2D(-2, -2),\n",
    "    Vector2D(-2, 2),\n",
    "    Vector2D(2, 2),\n",
    "    Vector2D(1, -1) / 2,\n",
    "]\n",
    "sum(vectors, Vector2D(0, 0))"
   ]
  },
  {
   "cell_type": "code",
   "execution_count": null,
   "id": "a81999f3-96ed-49aa-9fbb-c7f4801eabf8",
   "metadata": {},
   "outputs": [],
   "source": [
    "interval = Interval(-2, 2)\n",
    "step = 0.5\n",
    "fig = Figure(figsize=(8, 8))\n",
    "fig"
   ]
  },
  {
   "cell_type": "code",
   "execution_count": null,
   "id": "3907736c-ea3c-486f-847c-5842390fea76",
   "metadata": {},
   "outputs": [],
   "source": [
    "ax = fig.add_subplot()\n",
    "fig"
   ]
  },
  {
   "cell_type": "code",
   "execution_count": null,
   "id": "f3245767-d625-4934-960f-acb8d5e947ef",
   "metadata": {},
   "outputs": [],
   "source": [
    "ax = cartesian_axes(ax, interval)\n",
    "fig"
   ]
  },
  {
   "cell_type": "code",
   "execution_count": null,
   "id": "3021235e-9b1d-4c24-9729-9593a82171f2",
   "metadata": {},
   "outputs": [],
   "source": [
    "ax = vector_2d_tails(ax, *vectors, labels=[\"A\", \"B\", \"C\", \"D\", \"E\", \"F\"])\n",
    "fig"
   ]
  },
  {
   "cell_type": "code",
   "execution_count": null,
   "id": "4d1233fa-1c15-4b14-b42c-a581d2db2e93",
   "metadata": {},
   "outputs": [],
   "source": [
    "ax = vector_2d_single(ax, sum(vectors, Vector2D(0, 0)), label=\"A + B + C + D + E + F\")\n",
    "fig"
   ]
  }
 ],
 "metadata": {
  "kernelspec": {
   "display_name": "Python 3 (ipykernel)",
   "language": "python",
   "name": "python3"
  },
  "language_info": {
   "codemirror_mode": {
    "name": "ipython",
    "version": 3
   },
   "file_extension": ".py",
   "mimetype": "text/x-python",
   "name": "python",
   "nbconvert_exporter": "python",
   "pygments_lexer": "ipython3",
   "version": "3.7.13"
  },
  "vscode": {
   "interpreter": {
    "hash": "710cc4ef1a0ec7d05992c5c678a145149e1fcaeef02ec5a08b2c2111c46acc43"
   }
  }
 },
 "nbformat": 4,
 "nbformat_minor": 5
}

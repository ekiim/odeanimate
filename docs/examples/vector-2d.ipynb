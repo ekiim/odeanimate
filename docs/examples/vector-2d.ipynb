{
 "cells": [
  {
   "cell_type": "code",
   "execution_count": null,
   "id": "95a65b77-1c78-490a-9ddb-9af7bacdb2a0",
   "metadata": {
    "execution": {
     "iopub.execute_input": "2023-04-03T05:02:56.055989Z",
     "iopub.status.busy": "2023-04-03T05:02:56.055645Z",
     "iopub.status.idle": "2023-04-03T05:02:56.356289Z",
     "shell.execute_reply": "2023-04-03T05:02:56.355988Z"
    }
   },
   "outputs": [],
   "source": [
    "%matplotlib notebook\n",
    "from matplotlib.figure import Figure\n",
    "from odeanimate.domains import Interval\n",
    "from odeanimate.vector import Vector2D\n",
    "from odeanimate.plots.vectors import vector_2d_tails, vector_2d_single\n",
    "from odeanimate.plots.axes import cartesian_axes"
   ]
  },
  {
   "cell_type": "code",
   "execution_count": null,
   "id": "dee94bf8-2810-43d4-a950-d439d55168fd",
   "metadata": {
    "execution": {
     "iopub.execute_input": "2023-04-03T05:02:56.357799Z",
     "iopub.status.busy": "2023-04-03T05:02:56.357626Z",
     "iopub.status.idle": "2023-04-03T05:02:56.360734Z",
     "shell.execute_reply": "2023-04-03T05:02:56.360392Z"
    }
   },
   "outputs": [],
   "source": [
    "vectors = [\n",
    "    Vector2D(1, 1),\n",
    "    Vector2D(1, -1),\n",
    "    Vector2D(-2, -2),\n",
    "    Vector2D(-2, 2),\n",
    "    Vector2D(2, 2),\n",
    "    Vector2D(1, -1) / 2,\n",
    "]\n",
    "sum(vectors, Vector2D(0, 0))"
   ]
  },
  {
   "cell_type": "code",
   "execution_count": null,
   "id": "a81999f3-96ed-49aa-9fbb-c7f4801eabf8",
   "metadata": {
    "execution": {
     "iopub.execute_input": "2023-04-03T05:02:56.361829Z",
     "iopub.status.busy": "2023-04-03T05:02:56.361724Z",
     "iopub.status.idle": "2023-04-03T05:02:56.364526Z",
     "shell.execute_reply": "2023-04-03T05:02:56.364276Z"
    }
   },
   "outputs": [],
   "source": [
    "interval = Interval(-2, 2)\n",
    "step = 0.5\n",
    "fig = Figure(figsize=(8, 8))\n",
    "fig"
   ]
  },
  {
   "cell_type": "code",
   "execution_count": null,
   "id": "3907736c-ea3c-486f-847c-5842390fea76",
   "metadata": {
    "execution": {
     "iopub.execute_input": "2023-04-03T05:02:56.365675Z",
     "iopub.status.busy": "2023-04-03T05:02:56.365582Z",
     "iopub.status.idle": "2023-04-03T05:02:56.493451Z",
     "shell.execute_reply": "2023-04-03T05:02:56.493016Z"
    }
   },
   "outputs": [],
   "source": [
    "ax = fig.add_subplot()\n",
    "fig"
   ]
  },
  {
   "cell_type": "code",
   "execution_count": null,
   "id": "f3245767-d625-4934-960f-acb8d5e947ef",
   "metadata": {
    "execution": {
     "iopub.execute_input": "2023-04-03T05:02:56.495096Z",
     "iopub.status.busy": "2023-04-03T05:02:56.494967Z",
     "iopub.status.idle": "2023-04-03T05:02:56.570835Z",
     "shell.execute_reply": "2023-04-03T05:02:56.570535Z"
    }
   },
   "outputs": [],
   "source": [
    "ax = cartesian_axes(ax, interval)\n",
    "fig"
   ]
  },
  {
   "cell_type": "code",
   "execution_count": null,
   "id": "3021235e-9b1d-4c24-9729-9593a82171f2",
   "metadata": {
    "execution": {
     "iopub.execute_input": "2023-04-03T05:02:56.572299Z",
     "iopub.status.busy": "2023-04-03T05:02:56.572186Z",
     "iopub.status.idle": "2023-04-03T05:02:56.789208Z",
     "shell.execute_reply": "2023-04-03T05:02:56.788426Z"
    }
   },
   "outputs": [],
   "source": [
    "ax = vector_2d_tails(ax, *vectors, labels=[\"A\", \"B\", \"C\", \"D\", \"E\", \"F\"])\n",
    "fig"
   ]
  },
  {
   "cell_type": "code",
   "execution_count": null,
   "id": "4d1233fa-1c15-4b14-b42c-a581d2db2e93",
   "metadata": {
    "execution": {
     "iopub.execute_input": "2023-04-03T05:02:56.794947Z",
     "iopub.status.busy": "2023-04-03T05:02:56.794604Z",
     "iopub.status.idle": "2023-04-03T05:02:56.908060Z",
     "shell.execute_reply": "2023-04-03T05:02:56.907774Z"
    }
   },
   "outputs": [],
   "source": [
    "ax = vector_2d_single(ax, sum(vectors, Vector2D(0, 0)), label=\"A + B + C + D + E + F\")\n",
    "fig"
   ]
  }
 ],
 "metadata": {
  "kernelspec": {
   "display_name": "Python 3 (ipykernel)",
   "language": "python",
   "name": "python3"
  },
  "language_info": {
   "codemirror_mode": {
    "name": "ipython",
    "version": 3
   },
   "file_extension": ".py",
   "mimetype": "text/x-python",
   "name": "python",
   "nbconvert_exporter": "python",
   "pygments_lexer": "ipython3",
   "version": "3.11.1"
  },
  "vscode": {
   "interpreter": {
    "hash": "710cc4ef1a0ec7d05992c5c678a145149e1fcaeef02ec5a08b2c2111c46acc43"
   }
  }
 },
 "nbformat": 4,
 "nbformat_minor": 5
}

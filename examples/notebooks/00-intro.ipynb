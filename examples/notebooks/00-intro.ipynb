{
 "cells": [
  {
   "cell_type": "markdown",
   "id": "27f22ab6-f291-4b12-86af-690468669f8f",
   "metadata": {},
   "source": [
    "# ODE Animate Introduction\n",
    "\n",
    "This is a module intended to aid mathematical calculations, by providing an expressive way of writing mathematical functions in Python, and it's not meant to be used as a replacement for [`sympy`](https://sympy.org/) or [`numpy`](https://numpy.org/).\n",
    "\n",
    "> This project is mostly academic interest, and started as a way to teach python to some of my colleague.\n",
    "\n",
    "The user is encourage to _audit_ and _improve_ the code in order to support new features,\n",
    "but at the same time I would like the users to respect the development plan and road map for the project.\n",
    "\n",
    "An important thing to mention is that the project should include _nearly no_ dependencies. We are using [`matplotlib`](https://matplotlib.org/), because it is the _de facto_ plotting tool in the language (as a concecuense we are using `numpy` but not directly in this modules' code)."
   ]
  },
  {
   "cell_type": "markdown",
   "id": "d35b8773-c413-4864-a2f6-4ce535dae26a",
   "metadata": {},
   "source": [
    "## Two dimensional tools\n",
    "\n",
    "The initial mission for this project is to try and exploit the limits of two dimensional objects, _a.k.a._ anything plotable in a two dimensional plane.\n",
    "\n",
    "For example:"
   ]
  },
  {
   "cell_type": "markdown",
   "id": "e485b123-d9d7-44f5-ba64-9d3b53c33340",
   "metadata": {},
   "source": [
    "### Real valued curves\n",
    "\n",
    "We can start with the basics, since the language ofers a module named `math`, we can import it and make use of it without any extra hickups,\n",
    "with functions included in that module (or any other module), we can implement a function named as we wish (i.e. `real_curve`), that technically\n",
    "should be a single valued function, that returns a single numerical value, but all the _magic_, happens when we use the _decorator_.\n",
    "\n",
    "> A decorator is a concept in computer programming that will allow us to extend the behaviour of a function, by adding _pre_ and _post_ execution. (more or so).\n",
    "> We'll leave this a link for further reading on decorators, from [Real Python](https://realpython.com/primer-on-python-decorators/).\n",
    ">\n",
    "> The decorator notation in the language is to write an `@decorator_name` exactly one line prior to the `def` declaration, and we'll see ahead how to do so.\n",
    "\n",
    "The decorator to be used is `Curve1D`, which it will asume, that your input and output argument is a _numerical type_ (anything compatible with the `number` base class in python),\n",
    "meaning we can write a _real curve_ (as seen in most pre-calculus and calculus courses), as follows."
   ]
  },
  {
   "cell_type": "code",
   "execution_count": null,
   "id": "43ac2f90-61ea-41b6-84a9-f930ac15e3e8",
   "metadata": {},
   "outputs": [],
   "source": [
    "from math import sin\n",
    "from odeanimate.curve import Curve1D\n",
    "\n",
    "\n",
    "@Curve1D\n",
    "def real_curve(x):\n",
    "    \"\"\"$(x^2 - 4)sin(x)$\"\"\"\n",
    "    return (x**2 - 4) * sin(x)\n",
    "\n",
    "\n",
    "real_curve"
   ]
  },
  {
   "cell_type": "markdown",
   "id": "100567f4-beb0-45ed-8a1f-d2cfd638cf73",
   "metadata": {},
   "source": [
    "> WORK IN PROGRESS\n",
    ">\n",
    ">\n",
    "> If you would like to add a docstring, the program will use that to provide a _nice_ output when using Jupyter type enviroments.\n",
    "> The recomended practice will be to include in the first line the latex expression corresponding to your function definition.\n",
    ">\n",
    "> Discission needed on this topic."
   ]
  },
  {
   "cell_type": "markdown",
   "id": "11fd28cf-2a40-40ac-be90-f9eac58f3fc2",
   "metadata": {},
   "source": [
    "Now the natural next step would be to define an interval to evaluate a function, thus, we use the `Interval` object by defining a lower and upper bound.\n",
    "\n",
    "> A remark here is that since this is meant for numerical computation, the intervals are _closed_ in the mathematical sense of the word. (They include the uper and lower limits)\n",
    "\n",
    "> In Jupyter like enviroments they show up as tuples of two numbers."
   ]
  },
  {
   "cell_type": "code",
   "execution_count": null,
   "id": "aee35a25-6450-49ff-8411-ca2be8ebb76c",
   "metadata": {},
   "outputs": [],
   "source": [
    "from odeanimate.domains import Interval\n",
    "\n",
    "interval = Interval(1, 4)\n",
    "interval"
   ]
  },
  {
   "cell_type": "markdown",
   "id": "42dffd02-33f3-4a5b-8610-3589bb9b368e",
   "metadata": {},
   "source": [
    "Now that we have a function an an interval, we can put them together by using the _method_ `map` which belongs to the object `Curve1D` we created earlier.\n",
    "\n",
    "The method `map` recieves _one_ required argument which is an `Interval` type, and it recieves a secondary optional argument which we internally call `h`, that is used\n",
    "as a step for evaluation.\n",
    "\n",
    "When we use it, in a Jupyter like enviroment we'll be able to see a _table_ which expreses the results of the evaluation."
   ]
  },
  {
   "cell_type": "code",
   "execution_count": null,
   "id": "a849b26d-4e21-4369-bd22-503f7ac07878",
   "metadata": {},
   "outputs": [],
   "source": [
    "trayectory = real_curve.map(interval, 0.25)\n",
    "trayectory"
   ]
  },
  {
   "cell_type": "markdown",
   "id": "d05e4e8d-56a5-4451-b597-6a9f152e832e",
   "metadata": {},
   "source": [
    "> _WORK IN PROGRES_\n",
    ">\n",
    "> If the user is familiar with the `pandas` module, we'll let you know that objects of this kind should behave in similar fashon to a `DataFrame`."
   ]
  },
  {
   "cell_type": "code",
   "execution_count": null,
   "id": "2ab2f800-5bfa-43f4-9d81-81fd1ab4975b",
   "metadata": {
    "tags": []
   },
   "outputs": [],
   "source": [
    "trayectory.x"
   ]
  },
  {
   "cell_type": "markdown",
   "id": "a3797346-d986-4766-b4e0-cb6a3ebc71d2",
   "metadata": {},
   "source": [
    "Now that we have a trajectory in our hands (which is the table of values resulting from the evaluation), we can start thinking\n",
    "in _ploting_ the does values as a _curve_.\n",
    "\n",
    "This is achieved by using `matplotlib`, in the regular way you would expect.\n",
    "\n",
    "> The rational for not messing with ploting, is that the user will experiment with that module often in different enviroments and we do not want to \n",
    "> get in the way of messing with that experiencie.\n",
    ">\n",
    "> The only difference is that regularly people plot `numpy.array`.\n"
   ]
  },
  {
   "cell_type": "code",
   "execution_count": null,
   "id": "2b5a3e8a-8691-46b5-add4-2b38d745287f",
   "metadata": {
    "tags": []
   },
   "outputs": [],
   "source": [
    "%matplotlib notebook\n",
    "from matplotlib.figure import Figure\n",
    "\n",
    "fig = Figure()\n",
    "ax = fig.add_subplot()\n",
    "ax.plot(trayectory.x, trayectory.y)\n",
    "fig"
   ]
  },
  {
   "cell_type": "markdown",
   "id": "21678079-1782-4a35-a600-05c0b0d4e189",
   "metadata": {},
   "source": [
    "Now, we can use another method to investigate more the behaviour of this `real_curve` by inspecting it's derivative.\n",
    "\n",
    "For this we have a _utility_ function that returns you a _calculate function_ for the derivative on the initial function.\n",
    "The method numerical derivation is done by calculating the slope of a _secant_, at $x - h$ and $x + h$ where $h$ is an optional\n",
    "argument for the derivative method and by default is set to the default `odeanimate.utils.h`."
   ]
  },
  {
   "cell_type": "code",
   "execution_count": null,
   "id": "432551d7-dd5e-498e-9d25-00d7c396b452",
   "metadata": {},
   "outputs": [],
   "source": [
    "velocity = real_curve.derivative().map(interval, 0.1)\n",
    "\n",
    "fig = Figure()\n",
    "ax = fig.add_subplot()\n",
    "ax.plot(velocity.x, velocity.y)\n",
    "fig"
   ]
  },
  {
   "cell_type": "markdown",
   "id": "7d0c71db-30b1-4ea0-b3b2-034316e5da80",
   "metadata": {},
   "source": [
    "Now given the previous two examples, we can easily define an interesting (quite basic) plot, which is\n",
    "the one of the _tangent line_ on a curve for a given point $t$."
   ]
  },
  {
   "cell_type": "code",
   "execution_count": null,
   "id": "5635741c-21c0-4052-842f-568e95d69ff3",
   "metadata": {},
   "outputs": [],
   "source": [
    "# Define a value where we want to place the derivative.\n",
    "t = 2.8\n",
    "\n",
    "real_curve_derivative = real_curve.derivative()\n",
    "\n",
    "# Define a function for a line passing through\n",
    "@Curve1D\n",
    "def tangent_line(x):\n",
    "    return (x - t) * real_curve_derivative(t) + real_curve(t)\n",
    "\n",
    "\n",
    "# Plot as usual\n",
    "fig = Figure()\n",
    "ax = fig.add_subplot()\n",
    "ax.set_xlim(1, 4)\n",
    "ax.set_ylim(-9, 3)\n",
    "\n",
    "trayectory = real_curve.map(interval, 0.1)\n",
    "ax.plot(trayectory.x, trayectory.y)\n",
    "\n",
    "line_trayectory = tangent_line.map(interval)\n",
    "ax.plot(line_trayectory.x, line_trayectory.y)\n",
    "\n",
    "fig"
   ]
  },
  {
   "cell_type": "markdown",
   "id": "9ee8a70f-1e51-449f-884e-063e4179365c",
   "metadata": {},
   "source": [
    "Now taking this a step further, let's attempt to do an animation. First we would like to be able to generate the plot as a\n",
    "single function of paramater `t`."
   ]
  },
  {
   "cell_type": "code",
   "execution_count": null,
   "id": "1dea5b15-6900-4771-8000-130df2f7ed82",
   "metadata": {},
   "outputs": [],
   "source": [
    "real_curve_derivative = real_curve.derivative()\n",
    "\n",
    "\n",
    "def figure_to_plot(t):\n",
    "    # Define a function for a line passing through\n",
    "    @Curve1D\n",
    "    def tangent_line(x):\n",
    "        return (x - t) * real_curve_derivative(t) + real_curve(t)\n",
    "\n",
    "    # Plot as usual\n",
    "    fig = Figure()\n",
    "    ax = fig.add_subplot()\n",
    "    ax.set_xlim(1, 4)\n",
    "    ax.set_ylim(-9, 3)\n",
    "\n",
    "    trayectory = real_curve.map(interval, 0.1)\n",
    "    ax.plot(trayectory.x, trayectory.y)\n",
    "\n",
    "    line_trayectory = tangent_line.map(interval)\n",
    "    ax.plot(line_trayectory.x, line_trayectory.y)\n",
    "    return fig"
   ]
  },
  {
   "cell_type": "code",
   "execution_count": null,
   "id": "5f54ef0a-1175-49da-a446-63023e6ee766",
   "metadata": {},
   "outputs": [],
   "source": [
    "figure_to_plot(1.2)"
   ]
  },
  {
   "cell_type": "code",
   "execution_count": null,
   "id": "9ddd175d-c518-48c6-82fc-784a88fdad07",
   "metadata": {},
   "outputs": [],
   "source": [
    "from tempfile import TemporaryDirectory\n",
    "from pathlib import Path\n",
    "import ffmpeg\n",
    "\n",
    "Path(\"../../assets\").resolve()"
   ]
  },
  {
   "cell_type": "raw",
   "id": "4cfba66f-6b03-454b-94d9-41f8da0502e3",
   "metadata": {},
   "source": [
    "! rm -f ../../assets/animation.webm && mkdir -p \n",
    "with TemporaryDirectory() as dirname:\n",
    "    path = Path(dirname)\n",
    "    animation_interval = Interval(0, 1)\n",
    "    t_func = lambda x: x * 3 + 1\n",
    "    for i, s in enumerate(animation_interval(0.005)):\n",
    "        t = t_func(s)\n",
    "        fig = figure_to_plot(t)\n",
    "        fig.savefig(str(path / f\"fig-{i:05d}.png\"))\n",
    "        del fig\n",
    "    (\n",
    "        ffmpeg.input(str(path / \"fig-*.png\"), pattern_type=\"glob\", framerate=10)\n",
    "        .output(\"../../assets/animation.webm\")\n",
    "        .run(capture_stderr=True)\n",
    "    )"
   ]
  },
  {
   "cell_type": "raw",
   "id": "f06f0f76-d998-43d6-a8ea-8e4b031ff4d8",
   "metadata": {},
   "source": [
    "from IPython.display import Video\n",
    "\n",
    "Video(\"../../assets/animation.webm\")"
   ]
  },
  {
   "cell_type": "raw",
   "id": "1f90c561-6618-4e8b-8f45-ae1a3dc5ea51",
   "metadata": {},
   "source": [
    "! ls -liha ../../assets/animation.webm"
   ]
  },
  {
   "cell_type": "code",
   "execution_count": null,
   "id": "1e843897-b4db-46c8-add3-a29c2c0d5ca1",
   "metadata": {},
   "outputs": [],
   "source": []
  }
 ],
 "metadata": {
  "kernelspec": {
   "display_name": "Python 3 (ipykernel)",
   "language": "python",
   "name": "python3"
  },
  "language_info": {
   "codemirror_mode": {
    "name": "ipython",
    "version": 3
   },
   "file_extension": ".py",
   "mimetype": "text/x-python",
   "name": "python",
   "nbconvert_exporter": "python",
   "pygments_lexer": "ipython3",
   "version": "3.9.13"
  }
 },
 "nbformat": 4,
 "nbformat_minor": 5
}

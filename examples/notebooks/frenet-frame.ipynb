{
 "cells": [
  {
   "cell_type": "code",
   "execution_count": null,
   "id": "bab3a847-c3eb-4113-83b1-7bb5a635787c",
   "metadata": {},
   "outputs": [],
   "source": [
    "%matplotlib notebook\n",
    "import ipywidgets as widgets\n",
    "from matplotlib.figure import Figure\n",
    "from odeanimate.curve import Curve3D\n",
    "from math import sin, cos, pi\n",
    "import odeanimate.plots\n",
    "from odeanimate.domains import Interval\n",
    "from odeanimate.jupyter import display_return"
   ]
  },
  {
   "cell_type": "code",
   "execution_count": null,
   "id": "39bd9920-2c18-45b1-9285-75075ac3720a",
   "metadata": {},
   "outputs": [],
   "source": [
    "@Curve3D\n",
    "def func(t):\n",
    "    return (\n",
    "        3 * cos(2 * pi * t) * cos(2 * pi * t),\n",
    "        2 * sin(2 * pi * t) * cos(2 * pi * t),\n",
    "        4 * sin(2 * pi * t),\n",
    "    )"
   ]
  },
  {
   "cell_type": "code",
   "execution_count": null,
   "id": "a7439d75-69a5-42e2-8428-1b962af6eeec",
   "metadata": {},
   "outputs": [],
   "source": [
    "def interactive_frenet_frame(t):\n",
    "    delta = 0.01\n",
    "    fig = Figure(figsize=(6, 6))\n",
    "    gs = fig.add_gridspec(1, 1)\n",
    "    ax_3d = fig.add_subplot(gs[0, 0], projection=\"odeanimate3D\")\n",
    "    interval = Interval(-4, 4)\n",
    "    ax_3d.set_limits(interval)\n",
    "    ax_3d.add(func, interval=interval, delta=delta)\n",
    "    SerretFrenetVectors = [\n",
    "        func.tangent(),\n",
    "        func.normal(),\n",
    "        func.binormal(),\n",
    "    ]\n",
    "    ax_3d.add([V(t) for V in SerretFrenetVectors], origin=func(t))\n",
    "    return fig"
   ]
  },
  {
   "cell_type": "code",
   "execution_count": null,
   "id": "51be1d76-bd71-44fc-82fb-b7be23fe81dd",
   "metadata": {},
   "outputs": [],
   "source": [
    "_t = widgets.FloatSlider(\n",
    "    description=\"$t$\",\n",
    "    value=0,\n",
    "    min=0,\n",
    "    max=1,\n",
    "    step=0.05,\n",
    ")\n",
    "out = widgets.interactive_output(display_return(interactive_frenet_frame), {\"t\": _t})\n",
    "widgets.VBox([_t, out])"
   ]
  },
  {
   "cell_type": "code",
   "execution_count": null,
   "id": "21d2d2e9-26df-46ba-b7af-98f173da8ba4",
   "metadata": {},
   "outputs": [],
   "source": []
  }
 ],
 "metadata": {
  "kernelspec": {
   "display_name": "Python 3 (ipykernel)",
   "language": "python",
   "name": "python3"
  },
  "language_info": {
   "codemirror_mode": {
    "name": "ipython",
    "version": 3
   },
   "file_extension": ".py",
   "mimetype": "text/x-python",
   "name": "python",
   "nbconvert_exporter": "python",
   "pygments_lexer": "ipython3",
   "version": "3.9.13"
  }
 },
 "nbformat": 4,
 "nbformat_minor": 5
}

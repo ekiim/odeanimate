{
 "cells": [
  {
   "cell_type": "code",
   "execution_count": null,
   "id": "54b6a865-65bd-45a5-90a7-1c72e76a549e",
   "metadata": {},
   "outputs": [],
   "source": [
    "%matplotlib notebook\n",
    "from math import cos, sin, pi\n",
    "from matplotlib.figure import Figure\n",
    "import ipywidgets as widgets\n",
    "import odeanimate.plots\n",
    "from odeanimate.domains import Interval\n",
    "from odeanimate.vector import Vector2D, Vector3D\n",
    "from odeanimate.jupyter import display_return"
   ]
  },
  {
   "cell_type": "code",
   "execution_count": null,
   "id": "b3c66d4d-6efa-4db1-aa1b-545a4c363158",
   "metadata": {},
   "outputs": [],
   "source": [
    "def setup_figure(l_1, l_2, view=(25, 45)):\n",
    "    rod_1_interval = Interval(-l_1 * (2**0.5), l_1 * (2**0.5))\n",
    "    rod_2_interval = Interval(-l_2 * (2**0.5), l_2 * (2**0.5))\n",
    "    z_interval = Interval(0, 3.5 * l_2)\n",
    "\n",
    "    fig = Figure(figsize=(12, 6))\n",
    "    gs = fig.add_gridspec(2, 4)\n",
    "\n",
    "    ax_3d = fig.add_subplot(gs[:, :3], projection=\"odeanimate3D\")\n",
    "    ax_3d.set_limits(\n",
    "        rod_1_interval,\n",
    "        rod_2_interval,\n",
    "        z_interval,\n",
    "    )\n",
    "    ax_3d.view_init(*view)\n",
    "\n",
    "    ax_z = fig.add_subplot(gs[0, 3], projection=\"odeanimate\")\n",
    "    ax_z.set_limits(rod_1_interval)\n",
    "\n",
    "    ax_t = fig.add_subplot(gs[1, 3], projection=\"odeanimate\")\n",
    "    ax_t.set_limits(rod_2_interval)\n",
    "\n",
    "    return fig, (ax_3d, ax_z, ax_t)"
   ]
  },
  {
   "cell_type": "code",
   "execution_count": null,
   "id": "8823bad2-49bc-43b7-aa7a-d5f3efb349d6",
   "metadata": {},
   "outputs": [],
   "source": [
    "l_1, l_2 = 1.2, 2\n",
    "fig, (ax_3d, ax_z, ax_t) = setup_figure(l_1, l_2)\n",
    "fig"
   ]
  },
  {
   "cell_type": "code",
   "execution_count": null,
   "id": "16da6dd1-daa0-43a9-a738-f4a075e5388b",
   "metadata": {},
   "outputs": [],
   "source": [
    "def perform_calculation(l_1, l_2, theta, phi):\n",
    "    # Calculate the positions\n",
    "    # Full 3D\n",
    "    origin, z = Vector3D(0, 0, 0), Vector3D(0, 0, 1)\n",
    "    pivot = (1.5 * l_2) * z\n",
    "    rod_1 = l_1 * Vector3D(cos(theta), sin(theta), 0)\n",
    "    T = z ^ rod_1.direction\n",
    "    rod_2 = l_2 * (cos(phi) * z + sin(phi) * T)\n",
    "    rod_1.origin = pivot\n",
    "    rod_2.origin = rod_1 + pivot\n",
    "    # Projections\n",
    "    # Top View\n",
    "    rod_1_yx = rod_1.to_2D()\n",
    "    rod_2_yx = rod_2.to_2D()\n",
    "    rod_2_yx.origin = rod_1_yx\n",
    "    # Tanget View\n",
    "    rod_2_zt = Vector2D(rod_2 * T, rod_2 * z)\n",
    "\n",
    "    return [pivot, rod_1, rod_2], [rod_1_yx, rod_2_yx], [rod_2_zt]"
   ]
  },
  {
   "cell_type": "code",
   "execution_count": null,
   "id": "b58e92db-0c9a-4810-8c09-691d418aa153",
   "metadata": {},
   "outputs": [],
   "source": [
    "def furuta_figure(theta, phi, l_1, l_2):\n",
    "    fig, axes = setup_figure(l_1, l_2)\n",
    "    calculated = perform_calculation(l_1, l_2, theta, phi)\n",
    "    for ax, elems in zip(axes, calculated):\n",
    "        ax.add(elems)\n",
    "    return fig"
   ]
  },
  {
   "cell_type": "code",
   "execution_count": null,
   "id": "a7a101ab-26c5-4c3f-bb9f-90f2a67f4fcf",
   "metadata": {},
   "outputs": [],
   "source": [
    "TAU = 6.35\n",
    "widget_kwargs = dict(\n",
    "    value=0,\n",
    "    min=-TAU,\n",
    "    max=TAU,\n",
    "    step=0.005,\n",
    ")\n",
    "_theta = widgets.FloatSlider(\n",
    "    description=r\"$\\theta$\",\n",
    "    **widget_kwargs,\n",
    ")\n",
    "_phi = widgets.FloatSlider(\n",
    "    description=r\"$\\phi$\",\n",
    "    **widget_kwargs,\n",
    ")\n",
    "_rod_1_length = widgets.FloatSlider(\n",
    "    description=r\"$l_1$ Length\",\n",
    "    **{**widget_kwargs, \"min\": 1},\n",
    ")\n",
    "_rod_2_length = widgets.FloatSlider(\n",
    "    description=r\"$l_2$ Length\",\n",
    "    **{**widget_kwargs, \"min\": 1},\n",
    ")\n",
    "out = widgets.interactive_output(\n",
    "    display_return(furuta_figure),\n",
    "    {\n",
    "        \"theta\": _theta,\n",
    "        \"phi\": _phi,\n",
    "        \"l_1\": _rod_1_length,\n",
    "        \"l_2\": _rod_2_length,\n",
    "    },\n",
    ")\n",
    "None"
   ]
  },
  {
   "cell_type": "code",
   "execution_count": null,
   "id": "78a0fce6-a4f7-4403-91bd-84d3f1a90ed6",
   "metadata": {},
   "outputs": [],
   "source": [
    "widgets.VBox(\n",
    "    [\n",
    "        widgets.HBox(\n",
    "            [\n",
    "                widgets.VBox(\n",
    "                    [\n",
    "                        _theta,\n",
    "                        _phi,\n",
    "                    ]\n",
    "                ),\n",
    "                widgets.VBox(\n",
    "                    [\n",
    "                        _rod_1_length,\n",
    "                        _rod_2_length,\n",
    "                    ]\n",
    "                ),\n",
    "            ]\n",
    "        ),\n",
    "        out,\n",
    "    ]\n",
    ")"
   ]
  },
  {
   "cell_type": "code",
   "execution_count": null,
   "id": "fbd36a9f-6d1c-4557-9daf-1c135bed43a6",
   "metadata": {},
   "outputs": [],
   "source": []
  }
 ],
 "metadata": {
  "kernelspec": {
   "display_name": "Python 3 (ipykernel)",
   "language": "python",
   "name": "python3"
  },
  "language_info": {
   "codemirror_mode": {
    "name": "ipython",
    "version": 3
   },
   "file_extension": ".py",
   "mimetype": "text/x-python",
   "name": "python",
   "nbconvert_exporter": "python",
   "pygments_lexer": "ipython3",
   "version": "3.9.13"
  }
 },
 "nbformat": 4,
 "nbformat_minor": 5
}

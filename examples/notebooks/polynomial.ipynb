{
 "cells": [
  {
   "cell_type": "code",
   "execution_count": null,
   "id": "cd3d30b6-098c-4442-8557-0919bf32a5ab",
   "metadata": {},
   "outputs": [],
   "source": [
    "%matplotlib notebook\n",
    "from matplotlib.figure import Figure\n",
    "import odeanimate.plots\n",
    "from math import e\n",
    "from odeanimate.domains import Interval\n",
    "from odeanimate.methods.polinomial import Polinomial\n",
    "from odeanimate.curve import Curve1D"
   ]
  },
  {
   "cell_type": "code",
   "execution_count": null,
   "id": "327394a9-62f5-447f-9efc-3e2d63e074a2",
   "metadata": {},
   "outputs": [],
   "source": [
    "@Curve1D\n",
    "def exp(t):\n",
    "    return e**t\n",
    "\n",
    "\n",
    "f = Polinomial(-1, 0, 1)\n",
    "g = Polinomial(0, -4, 0, 1)\n",
    "interval = Interval(-3, 3)"
   ]
  },
  {
   "cell_type": "code",
   "execution_count": null,
   "id": "8036e2dc-95bf-49ef-a0c8-2e0245bfb066",
   "metadata": {},
   "outputs": [],
   "source": [
    "def basic_plot(*funcs, interval=interval):\n",
    "    fig = Figure(figsize=(12, 4))\n",
    "    print(funcs)\n",
    "    for i, func in enumerate(funcs, start=1):\n",
    "        ax = fig.add_subplot(1, len(funcs), i, projection=\"odeanimate\")\n",
    "        ax.set_limits(interval)\n",
    "        ax.add(func, interval=interval, delta=0.1)\n",
    "    return fig"
   ]
  },
  {
   "cell_type": "code",
   "execution_count": null,
   "id": "70f69294-b63b-4407-bbb2-bcfbc34fd2ad",
   "metadata": {},
   "outputs": [],
   "source": [
    "basic_plot(f, g, exp, interval=Interval(-3, 3))"
   ]
  },
  {
   "cell_type": "code",
   "execution_count": null,
   "id": "31e1e5e9-c7fa-4f2d-8d27-d7e796199d93",
   "metadata": {},
   "outputs": [],
   "source": [
    "basic_plot(f + f, g + f, exp + f, interval=Interval(-3, 3))"
   ]
  },
  {
   "cell_type": "code",
   "execution_count": null,
   "id": "f55af74e-119b-481d-9bc8-25bb3bd2d709",
   "metadata": {},
   "outputs": [],
   "source": [
    "basic_plot(f + f, f + g, f + exp, interval=Interval(-3, 3))"
   ]
  },
  {
   "cell_type": "code",
   "execution_count": null,
   "id": "618989ea-ef73-4fe8-a9a3-f5d091fa42ab",
   "metadata": {},
   "outputs": [],
   "source": [
    "basic_plot(f + 1, g + 1, exp + 1, interval=Interval(-3, 3))"
   ]
  },
  {
   "cell_type": "code",
   "execution_count": null,
   "id": "fbf40107-03de-4d39-8bcf-36b77d77d694",
   "metadata": {},
   "outputs": [],
   "source": [
    "basic_plot(f - 1, g - 1, exp - 1, interval=Interval(-3, 3))"
   ]
  },
  {
   "cell_type": "code",
   "execution_count": null,
   "id": "a832aac6-09ae-4b2a-ac0e-f031cd9aa8d3",
   "metadata": {},
   "outputs": [],
   "source": [
    "basic_plot(f * f, g * f, exp * f, interval=Interval(-3, 3))"
   ]
  },
  {
   "cell_type": "code",
   "execution_count": null,
   "id": "9df823bd-0300-4d12-9c52-032e92d6345a",
   "metadata": {},
   "outputs": [],
   "source": [
    "basic_plot(f * f, f * g, f * exp, interval=Interval(-3, 3))"
   ]
  },
  {
   "cell_type": "code",
   "execution_count": null,
   "id": "a21d8e07-f152-4741-9057-1e57aa794e75",
   "metadata": {},
   "outputs": [],
   "source": []
  }
 ],
 "metadata": {
  "kernelspec": {
   "display_name": "Python 3 (ipykernel)",
   "language": "python",
   "name": "python3"
  },
  "language_info": {
   "codemirror_mode": {
    "name": "ipython",
    "version": 3
   },
   "file_extension": ".py",
   "mimetype": "text/x-python",
   "name": "python",
   "nbconvert_exporter": "python",
   "pygments_lexer": "ipython3",
   "version": "3.9.13"
  }
 },
 "nbformat": 4,
 "nbformat_minor": 5
}

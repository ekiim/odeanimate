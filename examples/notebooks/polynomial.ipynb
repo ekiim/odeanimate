{
 "cells": [
  {
   "cell_type": "code",
   "execution_count": null,
   "id": "cf8a656e-02ea-4cd9-a82d-1bab243a97ec",
   "metadata": {},
   "outputs": [],
   "source": [
    "import matplotlib.pyplot as plt\n",
    "from examples.output import output_file\n",
    "from odeanimate.domains import Interval\n",
    "from odeanimate.plots.axes import cartesian_axes\n",
    "from odeanimate.methods.polinomial import Polinomial\n",
    "from odeanimate.curve import Curve1D"
   ]
  },
  {
   "cell_type": "code",
   "execution_count": null,
   "id": "bc1e6c9a-e2c1-44bf-a3e4-6dccf630f9e5",
   "metadata": {},
   "outputs": [],
   "source": [
    "fig = plt.figure(figsize=(8, 8))\n",
    "interval = Interval(-10, 10)\n",
    "ax = cartesian_axes(fig.add_subplot(), interval)\n",
    "f = Polinomial(-1, 0, 1)\n",
    "g = Polinomial(23, -2, 3, -1, 1)\n",
    "ax.plot(list(interval), list(map(f, interval)))\n",
    "ax.plot(list(interval), list(map(g, interval)))\n",
    "fig"
   ]
  },
  {
   "cell_type": "code",
   "execution_count": null,
   "id": "c58f26aa-eca1-4610-b25c-123e02e244d3",
   "metadata": {},
   "outputs": [],
   "source": [
    "g = Polinomial(23, -2, 3, -1, 1)\n",
    "g, f"
   ]
  },
  {
   "cell_type": "code",
   "execution_count": null,
   "id": "36d84eed-5669-42dd-bb40-17ddc16bb857",
   "metadata": {},
   "outputs": [],
   "source": [
    "f + g"
   ]
  },
  {
   "cell_type": "code",
   "execution_count": null,
   "id": "cd32b47e-4535-4a7e-ab1a-2f2b098df0bb",
   "metadata": {},
   "outputs": [],
   "source": [
    "e = 3\n",
    "h = Curve1D(function=lambda x: -0.2 * e**x)\n",
    "h"
   ]
  },
  {
   "cell_type": "code",
   "execution_count": null,
   "id": "c76823bb-46f0-4224-804e-b2746e29d1df",
   "metadata": {},
   "outputs": [],
   "source": [
    "h + f"
   ]
  },
  {
   "cell_type": "code",
   "execution_count": null,
   "id": "ef573591-d719-4dfd-a325-b34888ed8a32",
   "metadata": {},
   "outputs": [],
   "source": [
    "trayectory = (h * 2 + f).map(Interval(-1, 10), 1 / 3)"
   ]
  },
  {
   "cell_type": "code",
   "execution_count": null,
   "id": "d5d2d53c-ac27-4201-b7cc-7e9b29c26e07",
   "metadata": {},
   "outputs": [],
   "source": [
    "trayectory"
   ]
  },
  {
   "cell_type": "code",
   "execution_count": null,
   "id": "1f0ec36b-dda1-41e4-b8bf-31ffbc4aa890",
   "metadata": {},
   "outputs": [],
   "source": [
    "fig = plt.figure(figsize=(8, 8))\n",
    "ax = fig.add_subplot()\n",
    "ax.plot(trayectory.x, trayectory.y)\n",
    "fig"
   ]
  },
  {
   "cell_type": "code",
   "execution_count": null,
   "id": "3904f03c-edd7-4ae5-8245-0811b1fc2aac",
   "metadata": {},
   "outputs": [],
   "source": []
  }
 ],
 "metadata": {
  "kernelspec": {
   "display_name": "Python 3 (ipykernel)",
   "language": "python",
   "name": "python3"
  },
  "language_info": {
   "codemirror_mode": {
    "name": "ipython",
    "version": 3
   },
   "file_extension": ".py",
   "mimetype": "text/x-python",
   "name": "python",
   "nbconvert_exporter": "python",
   "pygments_lexer": "ipython3",
   "version": "3.9.12"
  }
 },
 "nbformat": 4,
 "nbformat_minor": 5
}
